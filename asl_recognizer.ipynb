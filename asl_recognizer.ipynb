{
 "cells": [
  {
   "cell_type": "markdown",
   "metadata": {
    "collapsed": true,
    "deletable": true,
    "editable": true
   },
   "source": [
    "# Artificial Intelligence Engineer Nanodegree - Probabilistic Models\n",
    "## Project: Sign Language Recognition System\n",
    "- [Introduction](#intro)\n",
    "- [Part 1 Feature Selection](#part1_tutorial)\n",
    "    - [Tutorial](#part1_tutorial)\n",
    "    - [Features Submission](#part1_submission)\n",
    "    - [Features Unittest](#part1_test)\n",
    "- [Part 2 Train the models](#part2_tutorial)\n",
    "    - [Tutorial](#part2_tutorial)\n",
    "    - [Model Selection Score Submission](#part2_submission)\n",
    "    - [Model Score Unittest](#part2_test)\n",
    "- [Part 3 Build a Recognizer](#part3_tutorial)\n",
    "    - [Tutorial](#part3_tutorial)\n",
    "    - [Recognizer Submission](#part3_submission)\n",
    "    - [Recognizer Unittest](#part3_test)\n",
    "- [Part 4 (OPTIONAL) Improve the WER with Language Models](#part4_info)"
   ]
  },
  {
   "cell_type": "markdown",
   "metadata": {
    "deletable": true,
    "editable": true
   },
   "source": [
    "<a id='intro'></a>\n",
    "## Introduction\n",
    "The overall goal of this project is to build a word recognizer for American Sign Language video sequences, demonstrating the power of probabalistic models.  In particular, this project employs  [hidden Markov models (HMM's)](https://en.wikipedia.org/wiki/Hidden_Markov_model) to analyze a series of measurements taken from videos of American Sign Language (ASL) collected for research (see the [RWTH-BOSTON-104 Database](http://www-i6.informatik.rwth-aachen.de/~dreuw/database-rwth-boston-104.php)).  In this video, the right-hand x and y locations are plotted as the speaker signs the sentence.\n",
    "[![ASLR demo](http://www-i6.informatik.rwth-aachen.de/~dreuw/images/demosample.png)](https://drive.google.com/open?id=0B_5qGuFe-wbhUXRuVnNZVnMtam8)\n",
    "\n",
    "The raw data, train, and test sets are pre-defined.  You will derive a variety of feature sets (explored in Part 1), as well as implement three different model selection criterion to determine the optimal number of hidden states for each word model (explored in Part 2). Finally, in Part 3 you will implement the recognizer and compare the effects the different combinations of feature sets and model selection criteria.  \n",
    "\n",
    "At the end of each Part, complete the submission cells with implementations, answer all questions, and pass the unit tests.  Then submit the completed notebook for review!"
   ]
  },
  {
   "cell_type": "markdown",
   "metadata": {
    "deletable": true,
    "editable": true
   },
   "source": [
    "<a id='part1_tutorial'></a>\n",
    "## PART 1: Data\n",
    "\n",
    "### Features Tutorial\n",
    "##### Load the initial database\n",
    "A data handler designed for this database is provided in the student codebase as the `AslDb` class in the `asl_data` module.  This handler creates the initial [pandas](http://pandas.pydata.org/pandas-docs/stable/) dataframe from the corpus of data included in the `data` directory as well as dictionaries suitable for extracting data in a format friendly to the [hmmlearn](https://hmmlearn.readthedocs.io/en/latest/) library.  We'll use those to create models in Part 2.\n",
    "\n",
    "To start, let's set up the initial database and select an example set of features for the training set.  At the end of Part 1, you will create additional feature sets for experimentation. "
   ]
  },
  {
   "cell_type": "code",
   "execution_count": 1,
   "metadata": {
    "collapsed": false,
    "deletable": true,
    "editable": true
   },
   "outputs": [
    {
     "data": {
      "text/html": [
       "<div>\n",
       "<table border=\"1\" class=\"dataframe\">\n",
       "  <thead>\n",
       "    <tr style=\"text-align: right;\">\n",
       "      <th></th>\n",
       "      <th></th>\n",
       "      <th>left-x</th>\n",
       "      <th>left-y</th>\n",
       "      <th>right-x</th>\n",
       "      <th>right-y</th>\n",
       "      <th>nose-x</th>\n",
       "      <th>nose-y</th>\n",
       "      <th>speaker</th>\n",
       "    </tr>\n",
       "    <tr>\n",
       "      <th>video</th>\n",
       "      <th>frame</th>\n",
       "      <th></th>\n",
       "      <th></th>\n",
       "      <th></th>\n",
       "      <th></th>\n",
       "      <th></th>\n",
       "      <th></th>\n",
       "      <th></th>\n",
       "    </tr>\n",
       "  </thead>\n",
       "  <tbody>\n",
       "    <tr>\n",
       "      <th rowspan=\"5\" valign=\"top\">98</th>\n",
       "      <th>0</th>\n",
       "      <td>149</td>\n",
       "      <td>181</td>\n",
       "      <td>170</td>\n",
       "      <td>175</td>\n",
       "      <td>161</td>\n",
       "      <td>62</td>\n",
       "      <td>woman-1</td>\n",
       "    </tr>\n",
       "    <tr>\n",
       "      <th>1</th>\n",
       "      <td>149</td>\n",
       "      <td>181</td>\n",
       "      <td>170</td>\n",
       "      <td>175</td>\n",
       "      <td>161</td>\n",
       "      <td>62</td>\n",
       "      <td>woman-1</td>\n",
       "    </tr>\n",
       "    <tr>\n",
       "      <th>2</th>\n",
       "      <td>149</td>\n",
       "      <td>181</td>\n",
       "      <td>170</td>\n",
       "      <td>175</td>\n",
       "      <td>161</td>\n",
       "      <td>62</td>\n",
       "      <td>woman-1</td>\n",
       "    </tr>\n",
       "    <tr>\n",
       "      <th>3</th>\n",
       "      <td>149</td>\n",
       "      <td>181</td>\n",
       "      <td>170</td>\n",
       "      <td>175</td>\n",
       "      <td>161</td>\n",
       "      <td>62</td>\n",
       "      <td>woman-1</td>\n",
       "    </tr>\n",
       "    <tr>\n",
       "      <th>4</th>\n",
       "      <td>149</td>\n",
       "      <td>181</td>\n",
       "      <td>170</td>\n",
       "      <td>175</td>\n",
       "      <td>161</td>\n",
       "      <td>62</td>\n",
       "      <td>woman-1</td>\n",
       "    </tr>\n",
       "  </tbody>\n",
       "</table>\n",
       "</div>"
      ],
      "text/plain": [
       "             left-x  left-y  right-x  right-y  nose-x  nose-y  speaker\n",
       "video frame                                                           \n",
       "98    0         149     181      170      175     161      62  woman-1\n",
       "      1         149     181      170      175     161      62  woman-1\n",
       "      2         149     181      170      175     161      62  woman-1\n",
       "      3         149     181      170      175     161      62  woman-1\n",
       "      4         149     181      170      175     161      62  woman-1"
      ]
     },
     "execution_count": 1,
     "metadata": {},
     "output_type": "execute_result"
    }
   ],
   "source": [
    "import numpy as np\n",
    "import pandas as pd\n",
    "from asl_data import AslDb\n",
    "\n",
    "\n",
    "asl = AslDb() # initializes the database\n",
    "asl.df.head() # displays the first five rows of the asl database, indexed by video and frame\n",
    "#asl.df['nose-x']\n",
    "#asl.df[1:11]\n",
    "#asl.df.ix[98,1]\n",
    "#asl.df['left-x'] [1:10]"
   ]
  },
  {
   "cell_type": "code",
   "execution_count": 2,
   "metadata": {
    "collapsed": false,
    "deletable": true,
    "editable": true
   },
   "outputs": [
    {
     "data": {
      "text/plain": [
       "left-x         149\n",
       "left-y         181\n",
       "right-x        170\n",
       "right-y        175\n",
       "nose-x         161\n",
       "nose-y          62\n",
       "speaker    woman-1\n",
       "Name: (98, 1), dtype: object"
      ]
     },
     "execution_count": 2,
     "metadata": {},
     "output_type": "execute_result"
    }
   ],
   "source": [
    "asl.df.ix[98,1]  # look at the data available for an individual frame\n"
   ]
  },
  {
   "cell_type": "markdown",
   "metadata": {
    "deletable": true,
    "editable": true
   },
   "source": [
    "The frame represented by video 98, frame 1 is shown here:\n",
    "![Video 98](http://www-i6.informatik.rwth-aachen.de/~dreuw/database/rwth-boston-104/overview/images/orig/098-start.jpg)"
   ]
  },
  {
   "cell_type": "markdown",
   "metadata": {
    "deletable": true,
    "editable": true
   },
   "source": [
    "##### Feature selection for training the model\n",
    "The objective of feature selection when training a model is to choose the most relevant variables while keeping the model as simple as possible, thus reducing training time.  We can use the raw features already provided or derive our own and add columns to the pandas dataframe `asl.df` for selection. As an example, in the next cell a feature named `'grnd-ry'` is added. This feature is the difference between the right-hand y value and the nose y value, which serves as the \"ground\" right y value. "
   ]
  },
  {
   "cell_type": "code",
   "execution_count": 3,
   "metadata": {
    "collapsed": false,
    "deletable": true,
    "editable": true
   },
   "outputs": [
    {
     "data": {
      "text/plain": [
       "video  frame\n",
       "98     0        113\n",
       "       1        113\n",
       "       2        113\n",
       "       3        113\n",
       "       4        113\n",
       "       5        113\n",
       "       6        113\n",
       "       7        113\n",
       "       8        113\n",
       "       9        113\n",
       "       10       113\n",
       "Name: grnd-ry, dtype: int64"
      ]
     },
     "execution_count": 3,
     "metadata": {},
     "output_type": "execute_result"
    }
   ],
   "source": [
    "asl.df['grnd-ry'] = asl.df['right-y'] - asl.df['nose-y']\n",
    "#asl.df.head()  # the new feature 'grnd-ry' is now in the frames dictionary\n",
    "asl.df['grnd-ry'][:11]"
   ]
  },
  {
   "cell_type": "markdown",
   "metadata": {
    "deletable": true,
    "editable": true
   },
   "source": [
    "##### Try it!"
   ]
  },
  {
   "cell_type": "code",
   "execution_count": 4,
   "metadata": {
    "collapsed": false,
    "deletable": true,
    "editable": true
   },
   "outputs": [
    {
     "name": "stdout",
     "output_type": "stream",
     "text": [
      "asl.df sample\n"
     ]
    },
    {
     "data": {
      "text/html": [
       "<div>\n",
       "<table border=\"1\" class=\"dataframe\">\n",
       "  <thead>\n",
       "    <tr style=\"text-align: right;\">\n",
       "      <th></th>\n",
       "      <th></th>\n",
       "      <th>left-x</th>\n",
       "      <th>left-y</th>\n",
       "      <th>right-x</th>\n",
       "      <th>right-y</th>\n",
       "      <th>nose-x</th>\n",
       "      <th>nose-y</th>\n",
       "      <th>speaker</th>\n",
       "      <th>grnd-ry</th>\n",
       "      <th>grnd-rx</th>\n",
       "      <th>grnd-ly</th>\n",
       "      <th>grnd-lx</th>\n",
       "    </tr>\n",
       "    <tr>\n",
       "      <th>video</th>\n",
       "      <th>frame</th>\n",
       "      <th></th>\n",
       "      <th></th>\n",
       "      <th></th>\n",
       "      <th></th>\n",
       "      <th></th>\n",
       "      <th></th>\n",
       "      <th></th>\n",
       "      <th></th>\n",
       "      <th></th>\n",
       "      <th></th>\n",
       "      <th></th>\n",
       "    </tr>\n",
       "  </thead>\n",
       "  <tbody>\n",
       "    <tr>\n",
       "      <th rowspan=\"5\" valign=\"top\">98</th>\n",
       "      <th>0</th>\n",
       "      <td>149</td>\n",
       "      <td>181</td>\n",
       "      <td>170</td>\n",
       "      <td>175</td>\n",
       "      <td>161</td>\n",
       "      <td>62</td>\n",
       "      <td>woman-1</td>\n",
       "      <td>113</td>\n",
       "      <td>9</td>\n",
       "      <td>119</td>\n",
       "      <td>-12</td>\n",
       "    </tr>\n",
       "    <tr>\n",
       "      <th>1</th>\n",
       "      <td>149</td>\n",
       "      <td>181</td>\n",
       "      <td>170</td>\n",
       "      <td>175</td>\n",
       "      <td>161</td>\n",
       "      <td>62</td>\n",
       "      <td>woman-1</td>\n",
       "      <td>113</td>\n",
       "      <td>9</td>\n",
       "      <td>119</td>\n",
       "      <td>-12</td>\n",
       "    </tr>\n",
       "    <tr>\n",
       "      <th>2</th>\n",
       "      <td>149</td>\n",
       "      <td>181</td>\n",
       "      <td>170</td>\n",
       "      <td>175</td>\n",
       "      <td>161</td>\n",
       "      <td>62</td>\n",
       "      <td>woman-1</td>\n",
       "      <td>113</td>\n",
       "      <td>9</td>\n",
       "      <td>119</td>\n",
       "      <td>-12</td>\n",
       "    </tr>\n",
       "    <tr>\n",
       "      <th>3</th>\n",
       "      <td>149</td>\n",
       "      <td>181</td>\n",
       "      <td>170</td>\n",
       "      <td>175</td>\n",
       "      <td>161</td>\n",
       "      <td>62</td>\n",
       "      <td>woman-1</td>\n",
       "      <td>113</td>\n",
       "      <td>9</td>\n",
       "      <td>119</td>\n",
       "      <td>-12</td>\n",
       "    </tr>\n",
       "    <tr>\n",
       "      <th>4</th>\n",
       "      <td>149</td>\n",
       "      <td>181</td>\n",
       "      <td>170</td>\n",
       "      <td>175</td>\n",
       "      <td>161</td>\n",
       "      <td>62</td>\n",
       "      <td>woman-1</td>\n",
       "      <td>113</td>\n",
       "      <td>9</td>\n",
       "      <td>119</td>\n",
       "      <td>-12</td>\n",
       "    </tr>\n",
       "  </tbody>\n",
       "</table>\n",
       "</div>"
      ],
      "text/plain": [
       "             left-x  left-y  right-x  right-y  nose-x  nose-y  speaker  \\\n",
       "video frame                                                              \n",
       "98    0         149     181      170      175     161      62  woman-1   \n",
       "      1         149     181      170      175     161      62  woman-1   \n",
       "      2         149     181      170      175     161      62  woman-1   \n",
       "      3         149     181      170      175     161      62  woman-1   \n",
       "      4         149     181      170      175     161      62  woman-1   \n",
       "\n",
       "             grnd-ry  grnd-rx  grnd-ly  grnd-lx  \n",
       "video frame                                      \n",
       "98    0          113        9      119      -12  \n",
       "      1          113        9      119      -12  \n",
       "      2          113        9      119      -12  \n",
       "      3          113        9      119      -12  \n",
       "      4          113        9      119      -12  "
      ]
     },
     "metadata": {},
     "output_type": "display_data"
    },
    {
     "data": {
      "text/html": [
       "<font color=green>Correct!</font><br/>"
      ],
      "text/plain": [
       "<IPython.core.display.HTML object>"
      ]
     },
     "execution_count": 4,
     "metadata": {},
     "output_type": "execute_result"
    }
   ],
   "source": [
    "from asl_utils import test_features_tryit\n",
    "# TODO add df columns for 'grnd-rx', 'grnd-ly', 'grnd-lx' representing differences between hand and nose locations\n",
    "asl.df['grnd-rx'] = asl.df['right-x'] - asl.df['nose-x']\n",
    "asl.df['grnd-ly'] = asl.df['left-y'] - asl.df['nose-y']\n",
    "asl.df['grnd-lx'] = asl.df['left-x'] - asl.df['nose-x']\n",
    "# test the code\n",
    "test_features_tryit(asl)"
   ]
  },
  {
   "cell_type": "code",
   "execution_count": 5,
   "metadata": {
    "collapsed": false,
    "deletable": true,
    "editable": true
   },
   "outputs": [
    {
     "data": {
      "text/plain": [
       "[9, 113, -12, 119]"
      ]
     },
     "execution_count": 5,
     "metadata": {},
     "output_type": "execute_result"
    }
   ],
   "source": [
    "# collect the features into a list\n",
    "features_ground = ['grnd-rx','grnd-ry','grnd-lx','grnd-ly']\n",
    " #show a single set of features for a given (video, frame) tuple\n",
    "[asl.df.ix[98,3][v] for v in features_ground]\n",
    "#[asl.df.ix[81,19][v] for v in features_ground]"
   ]
  },
  {
   "cell_type": "markdown",
   "metadata": {
    "deletable": true,
    "editable": true
   },
   "source": [
    "##### Build the training set\n",
    "Now that we have a feature list defined, we can pass that list to the `build_training` method to collect the features for all the words in the training set.  Each word in the training set has multiple examples from various videos.  Below we can see the unique words that have been loaded into the training set:"
   ]
  },
  {
   "cell_type": "code",
   "execution_count": 6,
   "metadata": {
    "collapsed": false,
    "deletable": true,
    "editable": true,
    "scrolled": true
   },
   "outputs": [],
   "source": [
    "training = asl.build_training(features_ground)\n",
    "#print([asl.df.ix[1,8][v] for v in features_ground])\n",
    "#print(training._data['JOHN'])\n",
    "#print(training._hmm_data['FISH'])\n",
    "#print(training._hmm_data )\n",
    "#print(training.num_items)\n",
    "#print(len(training.words))\n",
    "#print(\"Training words: {}\".format(training.words))"
   ]
  },
  {
   "cell_type": "markdown",
   "metadata": {
    "deletable": true,
    "editable": true
   },
   "source": [
    "The training data in `training` is an object of class `WordsData` defined in the `asl_data` module.  in addition to the `words` list, data can be accessed with the `get_all_sequences`, `get_all_Xlengths`, `get_word_sequences`, and `get_word_Xlengths` methods. We need the `get_word_Xlengths` method to train multiple sequences with the `hmmlearn` library.  In the following example, notice that there are two lists; the first is a concatenation of all the sequences(the X portion) and the second is a list of the sequence lengths(the Lengths portion)."
   ]
  },
  {
   "cell_type": "code",
   "execution_count": 7,
   "metadata": {
    "collapsed": false,
    "deletable": true,
    "editable": true
   },
   "outputs": [],
   "source": [
    "#training.get_word_Xlengths('VEGETABLE')"
   ]
  },
  {
   "cell_type": "markdown",
   "metadata": {
    "deletable": true,
    "editable": true
   },
   "source": [
    "###### More feature sets\n",
    "So far we have a simple feature set that is enough to get started modeling.  However, we might get better results if we manipulate the raw values a bit more, so we will go ahead and set up some other options now for experimentation later.  For example, we could normalize each speaker's range of motion with grouped statistics using [Pandas stats](http://pandas.pydata.org/pandas-docs/stable/api.html#api-dataframe-stats) functions and [pandas groupby](http://pandas.pydata.org/pandas-docs/stable/generated/pandas.DataFrame.groupby.html).  Below is an example for finding the means of all speaker subgroups."
   ]
  },
  {
   "cell_type": "code",
   "execution_count": 8,
   "metadata": {
    "collapsed": false,
    "deletable": true,
    "editable": true,
    "scrolled": true
   },
   "outputs": [
    {
     "data": {
      "text/html": [
       "<div>\n",
       "<table border=\"1\" class=\"dataframe\">\n",
       "  <thead>\n",
       "    <tr style=\"text-align: right;\">\n",
       "      <th></th>\n",
       "      <th>left-x</th>\n",
       "      <th>left-y</th>\n",
       "      <th>right-x</th>\n",
       "      <th>right-y</th>\n",
       "      <th>nose-x</th>\n",
       "      <th>nose-y</th>\n",
       "      <th>grnd-ry</th>\n",
       "      <th>grnd-rx</th>\n",
       "      <th>grnd-ly</th>\n",
       "      <th>grnd-lx</th>\n",
       "    </tr>\n",
       "    <tr>\n",
       "      <th>speaker</th>\n",
       "      <th></th>\n",
       "      <th></th>\n",
       "      <th></th>\n",
       "      <th></th>\n",
       "      <th></th>\n",
       "      <th></th>\n",
       "      <th></th>\n",
       "      <th></th>\n",
       "      <th></th>\n",
       "      <th></th>\n",
       "    </tr>\n",
       "  </thead>\n",
       "  <tbody>\n",
       "    <tr>\n",
       "      <th>man-1</th>\n",
       "      <td>206.248203</td>\n",
       "      <td>218.679449</td>\n",
       "      <td>155.464350</td>\n",
       "      <td>150.371031</td>\n",
       "      <td>175.031756</td>\n",
       "      <td>61.642600</td>\n",
       "      <td>88.728430</td>\n",
       "      <td>-19.567406</td>\n",
       "      <td>157.036848</td>\n",
       "      <td>31.216447</td>\n",
       "    </tr>\n",
       "    <tr>\n",
       "      <th>woman-1</th>\n",
       "      <td>164.661438</td>\n",
       "      <td>161.271242</td>\n",
       "      <td>151.017865</td>\n",
       "      <td>117.332462</td>\n",
       "      <td>162.655120</td>\n",
       "      <td>57.245098</td>\n",
       "      <td>60.087364</td>\n",
       "      <td>-11.637255</td>\n",
       "      <td>104.026144</td>\n",
       "      <td>2.006318</td>\n",
       "    </tr>\n",
       "    <tr>\n",
       "      <th>woman-2</th>\n",
       "      <td>183.214509</td>\n",
       "      <td>176.527232</td>\n",
       "      <td>156.866295</td>\n",
       "      <td>119.835714</td>\n",
       "      <td>170.318973</td>\n",
       "      <td>58.022098</td>\n",
       "      <td>61.813616</td>\n",
       "      <td>-13.452679</td>\n",
       "      <td>118.505134</td>\n",
       "      <td>12.895536</td>\n",
       "    </tr>\n",
       "  </tbody>\n",
       "</table>\n",
       "</div>"
      ],
      "text/plain": [
       "             left-x      left-y     right-x     right-y      nose-x  \\\n",
       "speaker                                                               \n",
       "man-1    206.248203  218.679449  155.464350  150.371031  175.031756   \n",
       "woman-1  164.661438  161.271242  151.017865  117.332462  162.655120   \n",
       "woman-2  183.214509  176.527232  156.866295  119.835714  170.318973   \n",
       "\n",
       "            nose-y    grnd-ry    grnd-rx     grnd-ly    grnd-lx  \n",
       "speaker                                                          \n",
       "man-1    61.642600  88.728430 -19.567406  157.036848  31.216447  \n",
       "woman-1  57.245098  60.087364 -11.637255  104.026144   2.006318  \n",
       "woman-2  58.022098  61.813616 -13.452679  118.505134  12.895536  "
      ]
     },
     "execution_count": 8,
     "metadata": {},
     "output_type": "execute_result"
    }
   ],
   "source": [
    "df_means = asl.df.groupby('speaker').mean()\n",
    "df_means"
   ]
  },
  {
   "cell_type": "code",
   "execution_count": 9,
   "metadata": {
    "collapsed": false,
    "deletable": true,
    "editable": true
   },
   "outputs": [
    {
     "data": {
      "text/html": [
       "<div>\n",
       "<table border=\"1\" class=\"dataframe\">\n",
       "  <thead>\n",
       "    <tr style=\"text-align: right;\">\n",
       "      <th></th>\n",
       "      <th>left-x</th>\n",
       "      <th>left-y</th>\n",
       "      <th>right-x</th>\n",
       "      <th>right-y</th>\n",
       "      <th>nose-x</th>\n",
       "      <th>nose-y</th>\n",
       "      <th>grnd-ry</th>\n",
       "      <th>grnd-rx</th>\n",
       "      <th>grnd-ly</th>\n",
       "      <th>grnd-lx</th>\n",
       "    </tr>\n",
       "    <tr>\n",
       "      <th>speaker</th>\n",
       "      <th></th>\n",
       "      <th></th>\n",
       "      <th></th>\n",
       "      <th></th>\n",
       "      <th></th>\n",
       "      <th></th>\n",
       "      <th></th>\n",
       "      <th></th>\n",
       "      <th></th>\n",
       "      <th></th>\n",
       "    </tr>\n",
       "  </thead>\n",
       "  <tbody>\n",
       "    <tr>\n",
       "      <th>man-1</th>\n",
       "      <td>290</td>\n",
       "      <td>251</td>\n",
       "      <td>231</td>\n",
       "      <td>251</td>\n",
       "      <td>201</td>\n",
       "      <td>84</td>\n",
       "      <td>189</td>\n",
       "      <td>69</td>\n",
       "      <td>190</td>\n",
       "      <td>119</td>\n",
       "    </tr>\n",
       "    <tr>\n",
       "      <th>woman-1</th>\n",
       "      <td>235</td>\n",
       "      <td>191</td>\n",
       "      <td>209</td>\n",
       "      <td>179</td>\n",
       "      <td>174</td>\n",
       "      <td>70</td>\n",
       "      <td>124</td>\n",
       "      <td>46</td>\n",
       "      <td>137</td>\n",
       "      <td>70</td>\n",
       "    </tr>\n",
       "    <tr>\n",
       "      <th>woman-2</th>\n",
       "      <td>236</td>\n",
       "      <td>219</td>\n",
       "      <td>209</td>\n",
       "      <td>214</td>\n",
       "      <td>182</td>\n",
       "      <td>82</td>\n",
       "      <td>157</td>\n",
       "      <td>51</td>\n",
       "      <td>162</td>\n",
       "      <td>68</td>\n",
       "    </tr>\n",
       "  </tbody>\n",
       "</table>\n",
       "</div>"
      ],
      "text/plain": [
       "         left-x  left-y  right-x  right-y  nose-x  nose-y  grnd-ry  grnd-rx  \\\n",
       "speaker                                                                       \n",
       "man-1       290     251      231      251     201      84      189       69   \n",
       "woman-1     235     191      209      179     174      70      124       46   \n",
       "woman-2     236     219      209      214     182      82      157       51   \n",
       "\n",
       "         grnd-ly  grnd-lx  \n",
       "speaker                    \n",
       "man-1        190      119  \n",
       "woman-1      137       70  \n",
       "woman-2      162       68  "
      ]
     },
     "execution_count": 9,
     "metadata": {},
     "output_type": "execute_result"
    }
   ],
   "source": [
    "df_min=asl.df.groupby('speaker').min()\n",
    "df_max=asl.df.groupby('speaker').max()\n",
    "df_max\n",
    " "
   ]
  },
  {
   "cell_type": "markdown",
   "metadata": {
    "deletable": true,
    "editable": true
   },
   "source": [
    "To select a mean that matches by speaker, use the pandas [map](http://pandas.pydata.org/pandas-docs/stable/generated/pandas.Series.map.html) method:"
   ]
  },
  {
   "cell_type": "code",
   "execution_count": 10,
   "metadata": {
    "collapsed": false,
    "deletable": true,
    "editable": true
   },
   "outputs": [
    {
     "data": {
      "text/html": [
       "<div>\n",
       "<table border=\"1\" class=\"dataframe\">\n",
       "  <thead>\n",
       "    <tr style=\"text-align: right;\">\n",
       "      <th></th>\n",
       "      <th></th>\n",
       "      <th>left-x</th>\n",
       "      <th>left-y</th>\n",
       "      <th>right-x</th>\n",
       "      <th>right-y</th>\n",
       "      <th>nose-x</th>\n",
       "      <th>nose-y</th>\n",
       "      <th>speaker</th>\n",
       "      <th>grnd-ry</th>\n",
       "      <th>grnd-rx</th>\n",
       "      <th>grnd-ly</th>\n",
       "      <th>grnd-lx</th>\n",
       "      <th>left-x-mean</th>\n",
       "    </tr>\n",
       "    <tr>\n",
       "      <th>video</th>\n",
       "      <th>frame</th>\n",
       "      <th></th>\n",
       "      <th></th>\n",
       "      <th></th>\n",
       "      <th></th>\n",
       "      <th></th>\n",
       "      <th></th>\n",
       "      <th></th>\n",
       "      <th></th>\n",
       "      <th></th>\n",
       "      <th></th>\n",
       "      <th></th>\n",
       "      <th></th>\n",
       "    </tr>\n",
       "  </thead>\n",
       "  <tbody>\n",
       "    <tr>\n",
       "      <th rowspan=\"5\" valign=\"top\">98</th>\n",
       "      <th>0</th>\n",
       "      <td>149</td>\n",
       "      <td>181</td>\n",
       "      <td>170</td>\n",
       "      <td>175</td>\n",
       "      <td>161</td>\n",
       "      <td>62</td>\n",
       "      <td>woman-1</td>\n",
       "      <td>113</td>\n",
       "      <td>9</td>\n",
       "      <td>119</td>\n",
       "      <td>-12</td>\n",
       "      <td>164.661438</td>\n",
       "    </tr>\n",
       "    <tr>\n",
       "      <th>1</th>\n",
       "      <td>149</td>\n",
       "      <td>181</td>\n",
       "      <td>170</td>\n",
       "      <td>175</td>\n",
       "      <td>161</td>\n",
       "      <td>62</td>\n",
       "      <td>woman-1</td>\n",
       "      <td>113</td>\n",
       "      <td>9</td>\n",
       "      <td>119</td>\n",
       "      <td>-12</td>\n",
       "      <td>164.661438</td>\n",
       "    </tr>\n",
       "    <tr>\n",
       "      <th>2</th>\n",
       "      <td>149</td>\n",
       "      <td>181</td>\n",
       "      <td>170</td>\n",
       "      <td>175</td>\n",
       "      <td>161</td>\n",
       "      <td>62</td>\n",
       "      <td>woman-1</td>\n",
       "      <td>113</td>\n",
       "      <td>9</td>\n",
       "      <td>119</td>\n",
       "      <td>-12</td>\n",
       "      <td>164.661438</td>\n",
       "    </tr>\n",
       "    <tr>\n",
       "      <th>3</th>\n",
       "      <td>149</td>\n",
       "      <td>181</td>\n",
       "      <td>170</td>\n",
       "      <td>175</td>\n",
       "      <td>161</td>\n",
       "      <td>62</td>\n",
       "      <td>woman-1</td>\n",
       "      <td>113</td>\n",
       "      <td>9</td>\n",
       "      <td>119</td>\n",
       "      <td>-12</td>\n",
       "      <td>164.661438</td>\n",
       "    </tr>\n",
       "    <tr>\n",
       "      <th>4</th>\n",
       "      <td>149</td>\n",
       "      <td>181</td>\n",
       "      <td>170</td>\n",
       "      <td>175</td>\n",
       "      <td>161</td>\n",
       "      <td>62</td>\n",
       "      <td>woman-1</td>\n",
       "      <td>113</td>\n",
       "      <td>9</td>\n",
       "      <td>119</td>\n",
       "      <td>-12</td>\n",
       "      <td>164.661438</td>\n",
       "    </tr>\n",
       "  </tbody>\n",
       "</table>\n",
       "</div>"
      ],
      "text/plain": [
       "             left-x  left-y  right-x  right-y  nose-x  nose-y  speaker  \\\n",
       "video frame                                                              \n",
       "98    0         149     181      170      175     161      62  woman-1   \n",
       "      1         149     181      170      175     161      62  woman-1   \n",
       "      2         149     181      170      175     161      62  woman-1   \n",
       "      3         149     181      170      175     161      62  woman-1   \n",
       "      4         149     181      170      175     161      62  woman-1   \n",
       "\n",
       "             grnd-ry  grnd-rx  grnd-ly  grnd-lx  left-x-mean  \n",
       "video frame                                                   \n",
       "98    0          113        9      119      -12   164.661438  \n",
       "      1          113        9      119      -12   164.661438  \n",
       "      2          113        9      119      -12   164.661438  \n",
       "      3          113        9      119      -12   164.661438  \n",
       "      4          113        9      119      -12   164.661438  "
      ]
     },
     "execution_count": 10,
     "metadata": {},
     "output_type": "execute_result"
    }
   ],
   "source": [
    "asl.df['left-x-mean']= asl.df['speaker'].map(df_means['left-x'])\n",
    "asl.df.head()"
   ]
  },
  {
   "cell_type": "markdown",
   "metadata": {
    "deletable": true,
    "editable": true
   },
   "source": [
    "##### Try it!"
   ]
  },
  {
   "cell_type": "code",
   "execution_count": 11,
   "metadata": {
    "collapsed": false,
    "deletable": true,
    "editable": true
   },
   "outputs": [
    {
     "name": "stdout",
     "output_type": "stream",
     "text": [
      "df_std\n"
     ]
    },
    {
     "data": {
      "text/html": [
       "<div>\n",
       "<table border=\"1\" class=\"dataframe\">\n",
       "  <thead>\n",
       "    <tr style=\"text-align: right;\">\n",
       "      <th></th>\n",
       "      <th>left-x</th>\n",
       "      <th>left-y</th>\n",
       "      <th>right-x</th>\n",
       "      <th>right-y</th>\n",
       "      <th>nose-x</th>\n",
       "      <th>nose-y</th>\n",
       "      <th>grnd-ry</th>\n",
       "      <th>grnd-rx</th>\n",
       "      <th>grnd-ly</th>\n",
       "      <th>grnd-lx</th>\n",
       "      <th>left-x-mean</th>\n",
       "    </tr>\n",
       "    <tr>\n",
       "      <th>speaker</th>\n",
       "      <th></th>\n",
       "      <th></th>\n",
       "      <th></th>\n",
       "      <th></th>\n",
       "      <th></th>\n",
       "      <th></th>\n",
       "      <th></th>\n",
       "      <th></th>\n",
       "      <th></th>\n",
       "      <th></th>\n",
       "      <th></th>\n",
       "    </tr>\n",
       "  </thead>\n",
       "  <tbody>\n",
       "    <tr>\n",
       "      <th>man-1</th>\n",
       "      <td>15.154425</td>\n",
       "      <td>36.328485</td>\n",
       "      <td>18.901917</td>\n",
       "      <td>54.902340</td>\n",
       "      <td>6.654573</td>\n",
       "      <td>5.520045</td>\n",
       "      <td>53.487999</td>\n",
       "      <td>20.269032</td>\n",
       "      <td>36.572749</td>\n",
       "      <td>15.080360</td>\n",
       "      <td>0.0</td>\n",
       "    </tr>\n",
       "    <tr>\n",
       "      <th>woman-1</th>\n",
       "      <td>17.573442</td>\n",
       "      <td>26.594521</td>\n",
       "      <td>16.459943</td>\n",
       "      <td>34.667787</td>\n",
       "      <td>3.549392</td>\n",
       "      <td>3.538330</td>\n",
       "      <td>33.972660</td>\n",
       "      <td>16.764706</td>\n",
       "      <td>27.117393</td>\n",
       "      <td>17.328941</td>\n",
       "      <td>0.0</td>\n",
       "    </tr>\n",
       "    <tr>\n",
       "      <th>woman-2</th>\n",
       "      <td>15.388711</td>\n",
       "      <td>28.825025</td>\n",
       "      <td>14.890288</td>\n",
       "      <td>39.649111</td>\n",
       "      <td>4.099760</td>\n",
       "      <td>3.416167</td>\n",
       "      <td>39.128572</td>\n",
       "      <td>16.191324</td>\n",
       "      <td>29.320655</td>\n",
       "      <td>15.050938</td>\n",
       "      <td>0.0</td>\n",
       "    </tr>\n",
       "  </tbody>\n",
       "</table>\n",
       "</div>"
      ],
      "text/plain": [
       "            left-x     left-y    right-x    right-y    nose-x    nose-y  \\\n",
       "speaker                                                                   \n",
       "man-1    15.154425  36.328485  18.901917  54.902340  6.654573  5.520045   \n",
       "woman-1  17.573442  26.594521  16.459943  34.667787  3.549392  3.538330   \n",
       "woman-2  15.388711  28.825025  14.890288  39.649111  4.099760  3.416167   \n",
       "\n",
       "           grnd-ry    grnd-rx    grnd-ly    grnd-lx  left-x-mean  \n",
       "speaker                                                           \n",
       "man-1    53.487999  20.269032  36.572749  15.080360          0.0  \n",
       "woman-1  33.972660  16.764706  27.117393  17.328941          0.0  \n",
       "woman-2  39.128572  16.191324  29.320655  15.050938          0.0  "
      ]
     },
     "metadata": {},
     "output_type": "display_data"
    },
    {
     "data": {
      "text/html": [
       "<font color=green>Correct!</font><br/>"
      ],
      "text/plain": [
       "<IPython.core.display.HTML object>"
      ]
     },
     "execution_count": 11,
     "metadata": {},
     "output_type": "execute_result"
    }
   ],
   "source": [
    "from asl_utils import test_std_tryit\n",
    "# TODO Create a dataframe named `df_std` with standard deviations grouped by speaker\n",
    "df_std = asl.df.groupby('speaker').std()\n",
    "# test the code\n",
    "test_std_tryit(df_std)"
   ]
  },
  {
   "cell_type": "markdown",
   "metadata": {
    "deletable": true,
    "editable": true
   },
   "source": [
    "<a id='part1_submission'></a>\n",
    "### Features Implementation Submission\n",
    "Implement four feature sets and answer the question that follows.\n",
    "- normalized Cartesian coordinates\n",
    "    - use *mean* and *standard deviation* statistics and the [standard score](https://en.wikipedia.org/wiki/Standard_score) equation to account for speakers with different heights and arm length\n",
    "    \n",
    "- polar coordinates\n",
    "    - calculate polar coordinates with [Cartesian to polar equations](https://en.wikipedia.org/wiki/Polar_coordinate_system#Converting_between_polar_and_Cartesian_coordinates)\n",
    "    - use the [np.arctan2](https://docs.scipy.org/doc/numpy-1.10.0/reference/generated/numpy.arctan2.html) function and *swap the x and y axes* to move the $0$ to $2\\pi$ discontinuity to 12 o'clock instead of 3 o'clock;  in other words, the normal break in radians value from $0$ to $2\\pi$ occurs directly to the left of the speaker's nose, which may be in the signing area and interfere with results.  By swapping the x and y axes, that discontinuity move to directly above the speaker's head, an area not generally used in signing.\n",
    "\n",
    "- delta difference\n",
    "    - as described in Thad's lecture, use the difference in values between one frame and the next frames as features\n",
    "    - pandas [diff method](http://pandas.pydata.org/pandas-docs/stable/generated/pandas.DataFrame.diff.html) and [fillna method](http://pandas.pydata.org/pandas-docs/stable/generated/pandas.DataFrame.fillna.html) will be helpful for this one\n",
    "\n",
    "- custom features\n",
    "    - These are your own design; combine techniques used above or come up with something else entirely. We look forward to seeing what you come up with! \n",
    "    Some ideas to get you started:\n",
    "        - normalize using a [feature scaling equation](https://en.wikipedia.org/wiki/Feature_scaling)\n",
    "        - normalize the polar coordinates\n",
    "        - adding additional deltas\n"
   ]
  },
  {
   "cell_type": "code",
   "execution_count": 12,
   "metadata": {
    "collapsed": false,
    "deletable": true,
    "editable": true
   },
   "outputs": [],
   "source": [
    "# TODO add features for normalized by speaker values of left, right, x, y\n",
    "# Name these 'norm-rx', 'norm-ry', 'norm-lx', and 'norm-ly'\n",
    "# using Z-score scaling (X-Xmean)/Xstd\n",
    "features_norm = ['norm-rx', 'norm-ry', 'norm-lx','norm-ly']\n",
    "asl.df['norm-rx']= (asl.df['right-x']-asl.df['speaker'].map(df_means['right-x']))/ asl.df['speaker'].map(df_std['right-x'])\n",
    "asl.df['norm-ry']= (asl.df['right-y']-asl.df['speaker'].map(df_means['right-y']))/ asl.df['speaker'].map(df_std['right-y'])\n",
    "asl.df['norm-lx']= (asl.df['left-x']-asl.df['speaker'].map(df_means['left-x']))/ asl.df['speaker'].map(df_std['left-x'])\n",
    "asl.df['norm-ly']= (asl.df['left-y']-asl.df['speaker'].map(df_means['left-y']))/ asl.df['speaker'].map(df_std['left-y'])\n",
    "\n",
    "#asl.df.head()"
   ]
  },
  {
   "cell_type": "code",
   "execution_count": 13,
   "metadata": {
    "collapsed": false,
    "deletable": true,
    "editable": true
   },
   "outputs": [],
   "source": [
    "# TODO add features for polar coordinate values where the nose is the origin\n",
    "# Name these 'polar-rr', 'polar-rtheta', 'polar-lr', and 'polar-ltheta'\n",
    "# Note that 'polar-rr' and 'polar-rtheta' refer to the radius and angle\n",
    "import numpy as np\n",
    "features_polar = ['polar-rr', 'polar-rtheta', 'polar-lr', 'polar-ltheta']\n",
    "asl.df['polar-rr'] = np.sqrt((asl.df['grnd-rx'])**2+(asl.df['grnd-ry'])**2)\n",
    "asl.df['polar-lr'] = np.sqrt((asl.df['grnd-lx'])**2+(asl.df['grnd-ly'])**2) \n",
    "asl.df['polar-rtheta'] = np.arctan(asl.df['grnd-rx']/asl.df['grnd-ry'])\n",
    "asl.df['polar-ltheta'] = np.arctan(asl.df['grnd-lx']/asl.df['grnd-ly'])\n",
    "#asl.df.ix[98,1]"
   ]
  },
  {
   "cell_type": "code",
   "execution_count": 14,
   "metadata": {
    "collapsed": false,
    "deletable": true,
    "editable": true,
    "scrolled": true
   },
   "outputs": [],
   "source": [
    "# TODO add features for left, right, x, y differences by one time step, i.e. the \"delta\" values discussed in the lecture\n",
    "# Name these 'delta-rx', 'delta-ry', 'delta-lx', and 'delta-ly'\n",
    "\n",
    "features_delta = ['delta-rx', 'delta-ry', 'delta-lx', 'delta-ly']\n",
    "asl.df['delta-rx'] = asl.df['right-x'].diff().fillna(0)  \n",
    "asl.df['delta-ry'] = asl.df['right-y'].diff().fillna(0)  \n",
    "asl.df['delta-lx'] = asl.df['left-x'].diff().fillna(0) \n",
    "asl.df['delta-ly'] = asl.df['left-y'].diff().fillna(0) \n",
    "\n",
    "\n",
    "#asl.df.ix[98]\n"
   ]
  },
  {
   "cell_type": "code",
   "execution_count": 15,
   "metadata": {
    "collapsed": false,
    "deletable": true,
    "editable": true,
    "scrolled": true
   },
   "outputs": [
    {
     "data": {
      "text/html": [
       "<div>\n",
       "<table border=\"1\" class=\"dataframe\">\n",
       "  <thead>\n",
       "    <tr style=\"text-align: right;\">\n",
       "      <th></th>\n",
       "      <th></th>\n",
       "      <th>left-x</th>\n",
       "      <th>left-y</th>\n",
       "      <th>right-x</th>\n",
       "      <th>right-y</th>\n",
       "      <th>nose-x</th>\n",
       "      <th>nose-y</th>\n",
       "      <th>speaker</th>\n",
       "      <th>grnd-ry</th>\n",
       "      <th>grnd-rx</th>\n",
       "      <th>grnd-ly</th>\n",
       "      <th>...</th>\n",
       "      <th>resc-polar-rr</th>\n",
       "      <th>resc-polar-rtheta</th>\n",
       "      <th>resc-polar-lr</th>\n",
       "      <th>resc-polar-ltheta</th>\n",
       "      <th>delta-nose-x</th>\n",
       "      <th>delta-nose-y</th>\n",
       "      <th>norm-delta-rx</th>\n",
       "      <th>norm-delta-ry</th>\n",
       "      <th>norm-delta-lx</th>\n",
       "      <th>norm-delta-ly</th>\n",
       "    </tr>\n",
       "    <tr>\n",
       "      <th>video</th>\n",
       "      <th>frame</th>\n",
       "      <th></th>\n",
       "      <th></th>\n",
       "      <th></th>\n",
       "      <th></th>\n",
       "      <th></th>\n",
       "      <th></th>\n",
       "      <th></th>\n",
       "      <th></th>\n",
       "      <th></th>\n",
       "      <th></th>\n",
       "      <th></th>\n",
       "      <th></th>\n",
       "      <th></th>\n",
       "      <th></th>\n",
       "      <th></th>\n",
       "      <th></th>\n",
       "      <th></th>\n",
       "      <th></th>\n",
       "      <th></th>\n",
       "      <th></th>\n",
       "      <th></th>\n",
       "    </tr>\n",
       "  </thead>\n",
       "  <tbody>\n",
       "    <tr>\n",
       "      <th rowspan=\"5\" valign=\"top\">98</th>\n",
       "      <th>0</th>\n",
       "      <td>149</td>\n",
       "      <td>181</td>\n",
       "      <td>170</td>\n",
       "      <td>175</td>\n",
       "      <td>161</td>\n",
       "      <td>62</td>\n",
       "      <td>woman-1</td>\n",
       "      <td>113</td>\n",
       "      <td>9</td>\n",
       "      <td>119</td>\n",
       "      <td>...</td>\n",
       "      <td>0.894177</td>\n",
       "      <td>0.530262</td>\n",
       "      <td>0.814022</td>\n",
       "      <td>0.072769</td>\n",
       "      <td>0.0</td>\n",
       "      <td>0.0</td>\n",
       "      <td>-0.010823</td>\n",
       "      <td>0.043234</td>\n",
       "      <td>0.058404</td>\n",
       "      <td>0.047154</td>\n",
       "    </tr>\n",
       "    <tr>\n",
       "      <th>1</th>\n",
       "      <td>149</td>\n",
       "      <td>181</td>\n",
       "      <td>170</td>\n",
       "      <td>175</td>\n",
       "      <td>161</td>\n",
       "      <td>62</td>\n",
       "      <td>woman-1</td>\n",
       "      <td>113</td>\n",
       "      <td>9</td>\n",
       "      <td>119</td>\n",
       "      <td>...</td>\n",
       "      <td>0.894177</td>\n",
       "      <td>0.530262</td>\n",
       "      <td>0.814022</td>\n",
       "      <td>0.072769</td>\n",
       "      <td>0.0</td>\n",
       "      <td>0.0</td>\n",
       "      <td>-0.010823</td>\n",
       "      <td>0.043234</td>\n",
       "      <td>0.058404</td>\n",
       "      <td>0.047154</td>\n",
       "    </tr>\n",
       "    <tr>\n",
       "      <th>2</th>\n",
       "      <td>149</td>\n",
       "      <td>181</td>\n",
       "      <td>170</td>\n",
       "      <td>175</td>\n",
       "      <td>161</td>\n",
       "      <td>62</td>\n",
       "      <td>woman-1</td>\n",
       "      <td>113</td>\n",
       "      <td>9</td>\n",
       "      <td>119</td>\n",
       "      <td>...</td>\n",
       "      <td>0.894177</td>\n",
       "      <td>0.530262</td>\n",
       "      <td>0.814022</td>\n",
       "      <td>0.072769</td>\n",
       "      <td>0.0</td>\n",
       "      <td>0.0</td>\n",
       "      <td>-0.010823</td>\n",
       "      <td>0.043234</td>\n",
       "      <td>0.058404</td>\n",
       "      <td>0.047154</td>\n",
       "    </tr>\n",
       "    <tr>\n",
       "      <th>3</th>\n",
       "      <td>149</td>\n",
       "      <td>181</td>\n",
       "      <td>170</td>\n",
       "      <td>175</td>\n",
       "      <td>161</td>\n",
       "      <td>62</td>\n",
       "      <td>woman-1</td>\n",
       "      <td>113</td>\n",
       "      <td>9</td>\n",
       "      <td>119</td>\n",
       "      <td>...</td>\n",
       "      <td>0.894177</td>\n",
       "      <td>0.530262</td>\n",
       "      <td>0.814022</td>\n",
       "      <td>0.072769</td>\n",
       "      <td>0.0</td>\n",
       "      <td>0.0</td>\n",
       "      <td>-0.010823</td>\n",
       "      <td>0.043234</td>\n",
       "      <td>0.058404</td>\n",
       "      <td>0.047154</td>\n",
       "    </tr>\n",
       "    <tr>\n",
       "      <th>4</th>\n",
       "      <td>149</td>\n",
       "      <td>181</td>\n",
       "      <td>170</td>\n",
       "      <td>175</td>\n",
       "      <td>161</td>\n",
       "      <td>62</td>\n",
       "      <td>woman-1</td>\n",
       "      <td>113</td>\n",
       "      <td>9</td>\n",
       "      <td>119</td>\n",
       "      <td>...</td>\n",
       "      <td>0.894177</td>\n",
       "      <td>0.530262</td>\n",
       "      <td>0.814022</td>\n",
       "      <td>0.072769</td>\n",
       "      <td>0.0</td>\n",
       "      <td>0.0</td>\n",
       "      <td>-0.010823</td>\n",
       "      <td>0.043234</td>\n",
       "      <td>0.058404</td>\n",
       "      <td>0.047154</td>\n",
       "    </tr>\n",
       "  </tbody>\n",
       "</table>\n",
       "<p>5 rows × 50 columns</p>\n",
       "</div>"
      ],
      "text/plain": [
       "             left-x  left-y  right-x  right-y  nose-x  nose-y  speaker  \\\n",
       "video frame                                                              \n",
       "98    0         149     181      170      175     161      62  woman-1   \n",
       "      1         149     181      170      175     161      62  woman-1   \n",
       "      2         149     181      170      175     161      62  woman-1   \n",
       "      3         149     181      170      175     161      62  woman-1   \n",
       "      4         149     181      170      175     161      62  woman-1   \n",
       "\n",
       "             grnd-ry  grnd-rx  grnd-ly      ...        resc-polar-rr  \\\n",
       "video frame                                 ...                        \n",
       "98    0          113        9      119      ...             0.894177   \n",
       "      1          113        9      119      ...             0.894177   \n",
       "      2          113        9      119      ...             0.894177   \n",
       "      3          113        9      119      ...             0.894177   \n",
       "      4          113        9      119      ...             0.894177   \n",
       "\n",
       "             resc-polar-rtheta  resc-polar-lr  resc-polar-ltheta  \\\n",
       "video frame                                                        \n",
       "98    0               0.530262       0.814022           0.072769   \n",
       "      1               0.530262       0.814022           0.072769   \n",
       "      2               0.530262       0.814022           0.072769   \n",
       "      3               0.530262       0.814022           0.072769   \n",
       "      4               0.530262       0.814022           0.072769   \n",
       "\n",
       "             delta-nose-x  delta-nose-y  norm-delta-rx  norm-delta-ry  \\\n",
       "video frame                                                             \n",
       "98    0               0.0           0.0      -0.010823       0.043234   \n",
       "      1               0.0           0.0      -0.010823       0.043234   \n",
       "      2               0.0           0.0      -0.010823       0.043234   \n",
       "      3               0.0           0.0      -0.010823       0.043234   \n",
       "      4               0.0           0.0      -0.010823       0.043234   \n",
       "\n",
       "             norm-delta-lx  norm-delta-ly  \n",
       "video frame                                \n",
       "98    0           0.058404       0.047154  \n",
       "      1           0.058404       0.047154  \n",
       "      2           0.058404       0.047154  \n",
       "      3           0.058404       0.047154  \n",
       "      4           0.058404       0.047154  \n",
       "\n",
       "[5 rows x 50 columns]"
      ]
     },
     "execution_count": 15,
     "metadata": {},
     "output_type": "execute_result"
    }
   ],
   "source": [
    "# TODO add features of your own design, which may be a combination of the above or something else\n",
    "# Name these whatever you would like\n",
    "#distanze diagonali?\n",
    "# TODO define a list named 'features_custom' for building the training set\n",
    " \n",
    "#Rescaling Raw Data\n",
    "df_min=asl.df.groupby('speaker').min()\n",
    "df_max=asl.df.groupby('speaker').max()\n",
    "\n",
    "#feature_custom=  ['resc-rx','resc-ry','resc-lx','resc-ly']\n",
    "asl.df['resc-rx']= (asl.df['right-x']-asl.df['speaker'].map(df_min['right-x']))/ (asl.df['speaker'].map(df_max['right-x'])-asl.df['speaker'].map(df_min['right-x']))\n",
    "asl.df['resc-ry']= (asl.df['right-y']-asl.df['speaker'].map(df_min['right-y']))/ (asl.df['speaker'].map(df_max['right-y']) - asl.df['speaker'].map(df_min['right-y']))\n",
    "asl.df['resc-lx']= (asl.df['left-x']-asl.df['speaker'].map(df_min['left-x']))/ (asl.df['speaker'].map(df_max['left-x']) - asl.df['speaker'].map(df_min['left-x']))\n",
    "asl.df['resc-ly']= (asl.df['left-y']-asl.df['speaker'].map(df_min['left-y']))/(asl.df['speaker'].map(df_max['left-y']) - asl.df['speaker'].map(df_min['left-y']))\n",
    "#CV  0.57\n",
    "#BIC 0.58\n",
    "#DIC  \n",
    "\n",
    "#Normalization Feature Ground\n",
    "\n",
    "#feature_custom=  ['norm-grnd-rx','norm-grnd-ry','norm-grnd-lx','norm-grnd-ly']\n",
    "asl.df['norm-grnd-rx']= (asl.df['grnd-rx']-asl.df['speaker'].map(df_means['grnd-rx']))/ asl.df['speaker'].map(df_std['grnd-rx'])\n",
    "asl.df['norm-grnd-ry']= (asl.df['grnd-ry']-asl.df['speaker'].map(df_means['grnd-ry']))/ asl.df['speaker'].map(df_std['grnd-ry'])\n",
    "asl.df['norm-grnd-lx']= (asl.df['grnd-lx']-asl.df['speaker'].map(df_means['grnd-lx']))/ asl.df['speaker'].map(df_std['grnd-lx'])\n",
    "asl.df['norm-grnd-ly']= (asl.df['grnd-ly']-asl.df['speaker'].map(df_means['grnd-ly']))/ asl.df['speaker'].map(df_std['grnd-ly'])\n",
    "#CV  0.578\n",
    "#BIC 0.533\n",
    "#DIC  \n",
    "\n",
    "#Rescaling Feature Ground\n",
    "df_min=asl.df.groupby('speaker').min()\n",
    "df_max=asl.df.groupby('speaker').max()\n",
    "\n",
    "#feature_custom=  ['resc-grnd-rx','resc-grnd-ry','resc-grnd-lx','resc-grnd-ly']\n",
    "asl.df['resc-grnd-rx']= (asl.df['grnd-rx']-asl.df['speaker'].map(df_min['grnd-rx']))/ (asl.df['speaker'].map(df_max['grnd-rx'])-asl.df['speaker'].map(df_min['grnd-rx']))\n",
    "asl.df['resc-grnd-ry']= (asl.df['grnd-ry']-asl.df['speaker'].map(df_min['grnd-ry']))/ (asl.df['speaker'].map(df_max['grnd-ry']) - asl.df['speaker'].map(df_min['grnd-ry']))\n",
    "asl.df['resc-grnd-lx']= (asl.df['grnd-lx']-asl.df['speaker'].map(df_min['grnd-lx']))/ (asl.df['speaker'].map(df_max['grnd-lx']) - asl.df['speaker'].map(df_min['grnd-lx']))\n",
    "asl.df['resc-grnd-ly']= (asl.df['grnd-ly']-asl.df['speaker'].map(df_min['grnd-ly']))/(asl.df['speaker'].map(df_max['grnd-ly']) - asl.df['speaker'].map(df_min['grnd-ly']))\n",
    "#CV  0.6123\n",
    "#BIC 0.567\n",
    "#DIC  \n",
    "\n",
    "#Normalizing Feature Polar\n",
    "df_means = asl.df.groupby('speaker').mean()\n",
    "df_std =asl.df.groupby('speaker').std()\n",
    "\n",
    "#feature_custom=  ['norm-polar-rr','norm-polar-rtheta','norm-polar-lr','norm-polar-ltheta']\n",
    "asl.df['norm-polar-rr']= (asl.df['polar-rr']-asl.df['speaker'].map(df_means['polar-rr']))/ asl.df['speaker'].map(df_std['polar-rr'])\n",
    "asl.df['norm-polar-rtheta']= (asl.df['polar-rtheta']-asl.df['speaker'].map(df_means['polar-rtheta']))/ asl.df['speaker'].map(df_std['polar-rtheta'])\n",
    "asl.df['norm-polar-lr']= (asl.df['polar-lr']-asl.df['speaker'].map(df_means['polar-lr']))/ asl.df['speaker'].map(df_std['polar-lr'])\n",
    "asl.df['norm-polar-ltheta']= (asl.df['polar-ltheta']-asl.df['speaker'].map(df_means['polar-ltheta']))/ asl.df['speaker'].map(df_std['polar-ltheta'])\n",
    "#CV  0.657\n",
    "#BIC 0.573\n",
    "#DIC  \n",
    "\n",
    "#Rescaling Feature Polar\n",
    "df_min = asl.df.groupby('speaker').min()\n",
    "df_max =asl.df.groupby('speaker').max()\n",
    "\n",
    "#feature_custom=  ['resc-polar-rr','resc-polar-rtheta','resc-polar-lr','resc-polar-ltheta']\n",
    "\n",
    "asl.df['resc-polar-rr']= (asl.df['polar-rr']-asl.df['speaker'].map(df_min['polar-rr']))/ (asl.df['speaker'].map(df_max['polar-rr'])-asl.df['speaker'].map(df_min['polar-rr']))\n",
    "asl.df['resc-polar-rtheta']= (asl.df['polar-rtheta']-asl.df['speaker'].map(df_min['polar-rtheta']))/ (asl.df['speaker'].map(df_max['polar-rtheta']) - asl.df['speaker'].map(df_min['polar-rtheta']))\n",
    "asl.df['resc-polar-lr']= (asl.df['polar-lr']-asl.df['speaker'].map(df_min['polar-lr']))/ (asl.df['speaker'].map(df_max['polar-lr']) - asl.df['speaker'].map(df_min['polar-lr']))\n",
    "asl.df['resc-polar-ltheta']= (asl.df['polar-ltheta']-asl.df['speaker'].map(df_min['polar-ltheta']))/(asl.df['speaker'].map(df_max['polar-ltheta']) - asl.df['speaker'].map(df_min['polar-ltheta']))\n",
    "#CV  0.578\n",
    "#BIC 0.589\n",
    "#DIC  \n",
    " \n",
    "#Feature Delta, with Nose position\n",
    "\n",
    "#feature_custom = ['delta-rx', 'delta-ry', 'delta-lx', 'delta-ly','delta-nose-x','delta-nose-y']\n",
    " \n",
    "asl.df['delta-nose-x'] = asl.df['nose-x'].diff().fillna(0)  \n",
    "asl.df['delta-nose-y'] = asl.df['nose-y'].diff().fillna(0)  \n",
    "#CV  0.7977\n",
    "#BIC 0.6910\n",
    "#DIC  \n",
    "\n",
    "\n",
    "#Feature Delta - Normalized\n",
    "df_means = asl.df.groupby('speaker').mean()\n",
    "df_std =asl.df.groupby('speaker').std()\n",
    "\n",
    "#feature_custom=  ['norm-delta-rx','norm-delta-ry','norm-delta-lx','norm-delta-ly' ]\n",
    "asl.df['norm-delta-rx']= (asl.df['delta-rx']-asl.df['speaker'].map(df_means['delta-rx']))/ asl.df['speaker'].map(df_std['delta-rx'])\n",
    "asl.df['norm-delta-ry']= (asl.df['delta-ry']-asl.df['speaker'].map(df_means['delta-ry']))/ asl.df['speaker'].map(df_std['delta-ry'])\n",
    "asl.df['norm-delta-lx']= (asl.df['delta-lx']-asl.df['speaker'].map(df_means['delta-lx']))/ asl.df['speaker'].map(df_std['delta-lx'])\n",
    "asl.df['norm-delta-ly']= (asl.df['delta-ly']-asl.df['speaker'].map(df_means['delta-ly']))/ asl.df['speaker'].map(df_std['delta-ly'])\n",
    "#CV   0.6011 \n",
    "#BIC  0.578\n",
    "#DIC   \n",
    "\n",
    "\n",
    "#Mixture of best performing set of features\n",
    "\n",
    "#feature_custom=  ['resc-rx','resc-ry','resc-lx','resc-ly','resc-polar-rr','resc-polar-rtheta','resc-polar-lr','resc-polar-ltheta']\n",
    "#CV 0.522\n",
    "#BIC 0.517\n",
    "#DIC  \n",
    "\n",
    "\n",
    "#Mixture of best performing set of features extended\n",
    "#Best for now!\n",
    "feature_custom=  ['resc-rx','resc-ry','resc-lx','resc-ly','resc-polar-rr','resc-polar-rtheta','resc-polar-lr','resc-polar-ltheta','norm-delta-rx','norm-delta-ry','norm-delta-lx','norm-delta-ly']\n",
    "#DIC  0.52  ---> WER =   (by normalizing recognized word)\n",
    "#BIC 0.4550 ---> WER = 0.42696629213483145 once translated GO1 to GO etc. (by normalizing recognized word)\n",
    "#CV 0.505   ---> WER = 0.48314606741573035 (by normalizing recognized word)\n",
    "\n",
    " \n",
    "asl.df.head()\n",
    "\n",
    " \n"
   ]
  },
  {
   "cell_type": "markdown",
   "metadata": {
    "deletable": true,
    "editable": true
   },
   "source": [
    "# **Question 1:**  What custom features did you choose for the features_custom set and why?\n",
    "\n",
    "**Answer 1:** \n",
    "The approach taken to identify a set of features to use for the sign recognition task was mainly based on 2 considerations:\n",
    "1) how useful/relevant they empirically proved to be when used during the training/test phase\n",
    "2) when considering combined feature sets, I have tried to avoid redundant/uninteresting information\n",
    "\n",
    "The features sets considered were:\n",
    "1) rescaling raw data\n",
    "2) normalizing feature ground\n",
    "3) rescaling feature ground\n",
    "4) normalizing feature polar\n",
    "5) rescaling feature polar\n",
    "6) extending the feature delta set to include nose-x, nose-y \n",
    "7) normalizing feature delta\n",
    "\n",
    "The combinations of features sets were:\n",
    "1) rescaled raw variables and rescaled polar variables\n",
    "2) the ones in point 1 plus normalized delta\n",
    "\n",
    "The final set of features chosen yielded an estimated WER of ca 45% when using BIC, 50% when using CV and 52% with DIC. \n",
    "These values improved further when a change in the recognizer was introduced, such that different versions of the same sign were translated to the same sign (ex. GO1 --> GO, GO2 -->GO, FUTURE1--> FUTURE, BUY1 --> BUY, etc.). \n",
    "In this case, the estimated WER is ca 41% for BIC, 48% for CV and 49% for DIC. \n"
   ]
  },
  {
   "cell_type": "markdown",
   "metadata": {
    "deletable": true,
    "editable": true
   },
   "source": [
    "<a id='part1_test'></a>\n",
    "### Features Unit Testing\n",
    "Run the following unit tests as a sanity check on the defined \"ground\", \"norm\", \"polar\", and 'delta\"\n",
    "feature sets.  The test simply looks for some valid values but is not exhaustive.  However, the project should not be submitted if these tests don't pass."
   ]
  },
  {
   "cell_type": "code",
   "execution_count": 16,
   "metadata": {
    "collapsed": false,
    "deletable": true,
    "editable": true
   },
   "outputs": [
    {
     "name": "stderr",
     "output_type": "stream",
     "text": [
      "....\n",
      "----------------------------------------------------------------------\n",
      "Ran 4 tests in 0.012s\n",
      "\n",
      "OK\n"
     ]
    },
    {
     "data": {
      "text/plain": [
       "<unittest.runner.TextTestResult run=4 errors=0 failures=0>"
      ]
     },
     "execution_count": 16,
     "metadata": {},
     "output_type": "execute_result"
    }
   ],
   "source": [
    "import unittest\n",
    "# import numpy as np\n",
    "\n",
    "class TestFeatures(unittest.TestCase):\n",
    "\n",
    "    def test_features_ground(self):\n",
    "        sample = (asl.df.ix[98, 1][features_ground]).tolist()\n",
    "        self.assertEqual(sample, [9, 113, -12, 119])\n",
    "\n",
    "    def test_features_norm(self):\n",
    "        sample = (asl.df.ix[98, 1][features_norm]).tolist()\n",
    "        np.testing.assert_almost_equal(sample, [ 1.153,  1.663, -0.891,  0.742], 3)\n",
    "\n",
    "    def test_features_polar(self):\n",
    "        sample = (asl.df.ix[98,1][features_polar]).tolist()\n",
    "        np.testing.assert_almost_equal(sample, [113.3578, 0.0794, 119.603, -0.1005], 3) \n",
    "    def test_features_delta(self):\n",
    "        sample = (asl.df.ix[98, 0][features_delta]).tolist()\n",
    "        self.assertEqual(sample, [0, 0, 0, 0])\n",
    "        sample = (asl.df.ix[98, 18][features_delta]).tolist()\n",
    "        self.assertTrue(sample in [[-16, -5, -2, 4], [-14, -9, 0, 0]], \"Sample value found was {}\".format(sample))\n",
    " \n",
    "                        \n",
    "suite = unittest.TestLoader().loadTestsFromModule(TestFeatures())\n",
    "unittest.TextTestRunner().run(suite)"
   ]
  },
  {
   "cell_type": "markdown",
   "metadata": {
    "collapsed": true,
    "deletable": true,
    "editable": true
   },
   "source": [
    "<a id='part2_tutorial'></a>\n",
    "## PART 2: Model Selection\n",
    "### Model Selection Tutorial\n",
    "The objective of Model Selection is to tune the number of states for each word HMM prior to testing on unseen data.  In this section you will explore three methods: \n",
    "- Log likelihood using cross-validation folds (CV)\n",
    "- Bayesian Information Criterion (BIC)\n",
    "- Discriminative Information Criterion (DIC) "
   ]
  },
  {
   "cell_type": "markdown",
   "metadata": {
    "deletable": true,
    "editable": true
   },
   "source": [
    "##### Train a single word\n",
    "Now that we have built a training set with sequence data, we can \"train\" models for each word.  As a simple starting example, we train a single word using Gaussian hidden Markov models (HMM).   By using the `fit` method during training, the [Baum-Welch Expectation-Maximization](https://en.wikipedia.org/wiki/Baum%E2%80%93Welch_algorithm) (EM) algorithm is invoked iteratively to find the best estimate for the model *for the number of hidden states specified* from a group of sample seequences. For this example, we *assume* the correct number of hidden states is 3, but that is just a guess.  How do we know what the \"best\" number of states for training is?  We will need to find some model selection technique to choose the best parameter."
   ]
  },
  {
   "cell_type": "code",
   "execution_count": 17,
   "metadata": {
    "collapsed": false,
    "deletable": true,
    "editable": true
   },
   "outputs": [
    {
     "name": "stdout",
     "output_type": "stream",
     "text": [
      "Number of states trained in model for VEGETABLE is 3\n",
      "logL = -771.3555250052293\n"
     ]
    }
   ],
   "source": [
    "import warnings\n",
    "from hmmlearn.hmm import GaussianHMM\n",
    "\n",
    "def train_a_word(word, num_hidden_states, features):\n",
    "    \n",
    "    warnings.filterwarnings(\"ignore\", category=DeprecationWarning)\n",
    "    training = asl.build_training(features)  \n",
    "    X, lengths = training.get_word_Xlengths(word)\n",
    "    model = GaussianHMM(n_components=num_hidden_states, n_iter=1000).fit(X, lengths)\n",
    "    logL = model.score(X, lengths)\n",
    "    return model, logL\n",
    "\n",
    "demoword = 'VEGETABLE'\n",
    "model, logL = train_a_word(demoword, 3, features_ground)\n",
    "print(\"Number of states trained in model for {} is {}\".format(demoword, model.n_components))\n",
    "print(\"logL = {}\".format(logL))"
   ]
  },
  {
   "cell_type": "markdown",
   "metadata": {
    "deletable": true,
    "editable": true
   },
   "source": [
    "The HMM model has been trained and information can be pulled from the model, including means and variances for each feature and hidden state.  The [log likelihood](http://math.stackexchange.com/questions/892832/why-we-consider-log-likelihood-instead-of-likelihood-in-gaussian-distribution) for any individual sample or group of samples can also be calculated with the `score` method."
   ]
  },
  {
   "cell_type": "code",
   "execution_count": 18,
   "metadata": {
    "collapsed": false,
    "deletable": true,
    "editable": true
   },
   "outputs": [
    {
     "name": "stdout",
     "output_type": "stream",
     "text": [
      "Number of states trained in model for VEGETABLE is 3\n",
      "hidden state #0\n",
      "mean =  [ -17.6969697    33.63636364  -12.42424242  125.93939394]\n",
      "variance =  [ 5.96908173  8.71655647  2.85062443  1.02693297]\n",
      "\n",
      "hidden state #1\n",
      "mean =  [ -15.26923077   42.46153846   32.07692308  177.53846154]\n",
      "variance =  [ 11.73559172  19.40275148   9.53292899  21.55659763]\n",
      "\n",
      "hidden state #2\n",
      "mean =  [ -21.95454545   39.90909091   23.27272727  132.13636364]\n",
      "variance =  [  4.04384298  24.35582645   5.47152893   3.30004132]\n",
      "\n"
     ]
    }
   ],
   "source": [
    "def show_model_stats(word, model):\n",
    "    print(\"Number of states trained in model for {} is {}\".format(word, model.n_components))    \n",
    "    variance=np.array([np.diag(model.covars_[i]) for i in range(model.n_components)])    \n",
    "    for i in range(model.n_components):  # for each hidden state\n",
    "        print(\"hidden state #{}\".format(i))\n",
    "        print(\"mean = \", model.means_[i])\n",
    "        print(\"variance = \", variance[i])\n",
    "        print()\n",
    "    \n",
    "show_model_stats(demoword, model)"
   ]
  },
  {
   "cell_type": "markdown",
   "metadata": {
    "deletable": true,
    "editable": true
   },
   "source": [
    "##### Try it!\n",
    "Experiment by changing the feature set, word, and/or num_hidden_states values in the next cell to see changes in values.  "
   ]
  },
  {
   "cell_type": "code",
   "execution_count": 19,
   "metadata": {
    "collapsed": false,
    "deletable": true,
    "editable": true
   },
   "outputs": [
    {
     "name": "stdout",
     "output_type": "stream",
     "text": [
      "Number of states trained in model for BREAK-DOWN is 4\n",
      "hidden state #0\n",
      "mean =  [ 0.07036931  0.54290679  0.48501685 -1.00478236]\n",
      "variance =  [ 0.0241515   0.08629316  0.03319973  0.10836317]\n",
      "\n",
      "hidden state #1\n",
      "mean =  [-0.11479472 -0.57889578  0.93334019 -2.56466869]\n",
      "variance =  [ 0.07256668  0.02233582  0.03313764  0.06454383]\n",
      "\n",
      "hidden state #2\n",
      "mean =  [-0.35836564 -0.6700644   1.44361851 -2.50436424]\n",
      "variance =  [ 0.0189412   0.01592116  0.05276961  0.00933171]\n",
      "\n",
      "hidden state #3\n",
      "mean =  [ 0.24826133 -0.06153893  0.78349142 -1.74340738]\n",
      "variance =  [ 0.0226706   0.02157037  0.03735826  0.04581574]\n",
      "\n",
      "logL = 57.05917382256558\n"
     ]
    }
   ],
   "source": [
    "my_testword = 'BREAK-DOWN'\n",
    "model, logL = train_a_word(my_testword, 4, features_norm) # Experiment here with different parameters\n",
    "show_model_stats(my_testword, model)\n",
    "print(\"logL = {}\".format(logL))"
   ]
  },
  {
   "cell_type": "markdown",
   "metadata": {
    "deletable": true,
    "editable": true
   },
   "source": [
    "##### Visualize the hidden states\n",
    "We can plot the means and variances for each state and feature.  Try varying the number of states trained for the HMM model and examine the variances.  Are there some models that are \"better\" than others?  How can you tell?  We would like to hear what you think in the classroom online."
   ]
  },
  {
   "cell_type": "code",
   "execution_count": 20,
   "metadata": {
    "collapsed": true,
    "deletable": true,
    "editable": true
   },
   "outputs": [],
   "source": [
    "%matplotlib inline"
   ]
  },
  {
   "cell_type": "code",
   "execution_count": 21,
   "metadata": {
    "collapsed": false,
    "deletable": true,
    "editable": true
   },
   "outputs": [
    {
     "data": {
      "image/png": "[encoded data removed]",
      "text/plain": [
       "<matplotlib.figure.Figure at 0x1d6ecf669e8>"
      ]
     },
     "metadata": {},
     "output_type": "display_data"
    },
    {
     "data": {
      "image/png": "[encoded data removed]",
      "text/plain": [
       "<matplotlib.figure.Figure at 0x1d6ed11ecc0>"
      ]
     },
     "metadata": {},
     "output_type": "display_data"
    },
    {
     "data": {
      "image/png": "[encoded data removed]",
      "text/plain": [
       "<matplotlib.figure.Figure at 0x1d6ed2dfbe0>"
      ]
     },
     "metadata": {},
     "output_type": "display_data"
    },
    {
     "data": {
      "image/png": "[encoded data removed]",
      "text/plain": [
       "<matplotlib.figure.Figure at 0x1d6ed334240>"
      ]
     },
     "metadata": {},
     "output_type": "display_data"
    }
   ],
   "source": [
    "import math\n",
    "from matplotlib import (cm, pyplot as plt, mlab)\n",
    "\n",
    "def visualize(word, model):\n",
    "    \"\"\" visualize the input model for a particular word \"\"\"\n",
    "    variance=np.array([np.diag(model.covars_[i]) for i in range(model.n_components)])\n",
    "    figures = []\n",
    "    for parm_idx in range(len(model.means_[0])):\n",
    "        xmin = int(min(model.means_[:,parm_idx]) - max(variance[:,parm_idx]))\n",
    "        xmax = int(max(model.means_[:,parm_idx]) + max(variance[:,parm_idx]))\n",
    "        fig, axs = plt.subplots(model.n_components, sharex=True, sharey=False)\n",
    "        colours = cm.rainbow(np.linspace(0, 1, model.n_components))\n",
    "        for i, (ax, colour) in enumerate(zip(axs, colours)):\n",
    "            x = np.linspace(xmin, xmax, 100)\n",
    "            mu = model.means_[i,parm_idx]\n",
    "            sigma = math.sqrt(np.diag(model.covars_[i])[parm_idx])\n",
    "            ax.plot(x, mlab.normpdf(x, mu, sigma), c=colour)\n",
    "            ax.set_title(\"{} feature {} hidden state #{}\".format(word, parm_idx, i))\n",
    "\n",
    "            ax.grid(True)\n",
    "        figures.append(plt)\n",
    "    for p in figures:\n",
    "        p.show()\n",
    "        \n",
    "visualize(my_testword, model)"
   ]
  },
  {
   "cell_type": "markdown",
   "metadata": {
    "deletable": true,
    "editable": true
   },
   "source": [
    "#####  ModelSelector class\n",
    "Review the `ModelSelector` class from the codebase found in the `my_model_selectors.py` module.  It is designed to be a strategy pattern for choosing different model selectors.  For the project submission in this section, subclass `SelectorModel` to implement the following model selectors.  In other words, you will write your own classes/functions in the `my_model_selectors.py` module and run them from this notebook:\n",
    "\n",
    "- `SelectorCV `:  Log likelihood with CV\n",
    "- `SelectorBIC`: BIC \n",
    "- `SelectorDIC`: DIC\n",
    "\n",
    "You will train each word in the training set with a range of values for the number of hidden states, and then score these alternatives with the model selector, choosing the \"best\" according to each strategy. The simple case of training with a constant value for `n_components` can be called using the provided `SelectorConstant` subclass as follow:"
   ]
  },
  {
   "cell_type": "code",
   "execution_count": 22,
   "metadata": {
    "collapsed": false,
    "deletable": true,
    "editable": true
   },
   "outputs": [
    {
     "name": "stdout",
     "output_type": "stream",
     "text": [
      "Number of states trained in model for FISH is 3\n"
     ]
    }
   ],
   "source": [
    "from my_model_selectors import SelectorConstant\n",
    "\n",
    "training = asl.build_training(features_ground)  # Experiment here with different feature sets defined in part 1\n",
    "word = 'FISH' # Experiment here with different words\n",
    "model = SelectorConstant(training.get_all_sequences(), training.get_all_Xlengths(), word, n_constant=3).select()\n",
    "print(\"Number of states trained in model for {} is {}\".format(word, model.n_components))"
   ]
  },
  {
   "cell_type": "markdown",
   "metadata": {
    "deletable": true,
    "editable": true
   },
   "source": [
    "##### Cross-validation folds\n",
    "If we simply score the model with the Log Likelihood calculated from the feature sequences it has been trained on, we should expect that more complex models will have higher likelihoods. However, that doesn't tell us which would have a better likelihood score on unseen data.  The model will likely be overfit as complexity is added.  To estimate which topology model is better using only the training data, we can compare scores using cross-validation.  One technique for cross-validation is to break the training set into \"folds\" and rotate which fold is left out of training.  The \"left out\" fold scored.  This gives us a proxy method of finding the best model to use on \"unseen data\". In the following example, a set of word sequences is broken into three folds using the [scikit-learn Kfold](http://scikit-learn.org/stable/modules/generated/sklearn.model_selection.KFold.html) class object. When you implement `SelectorCV`, you will use this technique."
   ]
  },
  {
   "cell_type": "code",
   "execution_count": 23,
   "metadata": {
    "collapsed": false,
    "deletable": true,
    "editable": true
   },
   "outputs": [
    {
     "name": "stdout",
     "output_type": "stream",
     "text": [
      "Train fold indices:[2 3] Test fold indices:[0 1]\n",
      "Train fold indices:[0 1 3] Test fold indices:[2]\n",
      "Train fold indices:[0 1 2] Test fold indices:[3]\n"
     ]
    }
   ],
   "source": [
    "from sklearn.model_selection import KFold\n",
    " \n",
    "\n",
    "training = asl.build_training(feature_custom) # Experiment here with different feature sets\n",
    "word = 'BREAK-DOWN' # Experiment here with different words\n",
    "word_sequences = training.get_word_sequences(word)\n",
    "\n",
    "split_method = KFold()\n",
    "for cv_train_idx, cv_test_idx in split_method.split(word_sequences):\n",
    "    print(\"Train fold indices:{} Test fold indices:{}\".format(cv_train_idx, cv_test_idx))  # view indices of the folds"
   ]
  },
  {
   "cell_type": "markdown",
   "metadata": {
    "deletable": true,
    "editable": true
   },
   "source": [
    "**Tip:** In order to run `hmmlearn` training using the X,lengths tuples on the new folds, subsets must be combined based on the indices given for the folds.  A helper utility has been provided in the `asl_utils` module named `combine_sequences` for this purpose."
   ]
  },
  {
   "cell_type": "markdown",
   "metadata": {
    "deletable": true,
    "editable": true
   },
   "source": [
    "##### Scoring models with other criterion\n",
    "Scoring model topologies with **BIC** balances fit and complexity within the training set for each word.  In the BIC equation, a penalty term penalizes complexity to avoid overfitting, so that it is not necessary to also use cross-validation in the selection process.  There are a number of references on the internet for this criterion.  These [slides](http://www2.imm.dtu.dk/courses/02433/doc/ch6_slides.pdf) include a formula you may find helpful for your implementation.\n",
    "\n",
    "The advantages of scoring model topologies with **DIC** over BIC are presented by Alain Biem in this [reference](http://citeseerx.ist.psu.edu/viewdoc/download?doi=10.1.1.58.6208&rep=rep1&type=pdf) (also found [here](https://pdfs.semanticscholar.org/ed3d/7c4a5f607201f3848d4c02dd9ba17c791fc2.pdf)).  DIC scores the discriminant ability of a training set for one word against competing words.  Instead of a penalty term for complexity, it provides a penalty if model liklihoods for non-matching words are too similar to model likelihoods for the correct word in the word set."
   ]
  },
  {
   "cell_type": "markdown",
   "metadata": {
    "deletable": true,
    "editable": true
   },
   "source": [
    "<a id='part2_submission'></a>\n",
    "### Model Selection Implementation Submission\n",
    "Implement `SelectorCV`, `SelectorBIC`, and `SelectorDIC` classes in the `my_model_selectors.py` module.  Run the selectors on the following five words. Then answer the questions about your results.\n",
    "\n",
    "**Tip:** The `hmmlearn` library may not be able to train or score all models.  Implement try/except contructs as necessary to eliminate non-viable models from consideration."
   ]
  },
  {
   "cell_type": "code",
   "execution_count": 24,
   "metadata": {
    "collapsed": true,
    "deletable": true,
    "editable": true
   },
   "outputs": [],
   "source": [
    "words_to_train = ['FISH', 'BOOK', 'VEGETABLE', 'FUTURE', 'JOHN']\n",
    "import timeit"
   ]
  },
  {
   "cell_type": "code",
   "execution_count": 25,
   "metadata": {
    "collapsed": false,
    "deletable": true,
    "editable": true
   },
   "outputs": [],
   "source": [
    "# autoreload for automatically reloading changes made in my_model_selectors and my_recognizer\n",
    "%load_ext autoreload\n",
    "%autoreload 2"
   ]
  },
  {
   "cell_type": "code",
   "execution_count": 41,
   "metadata": {
    "collapsed": false,
    "deletable": true,
    "editable": true
   },
   "outputs": [],
   "source": [
    "#rima tests\n",
    "words_to_train=['FISH']\n",
    "training = asl.build_training(features_ground)\n",
    "sequences = training.get_all_sequences()\n",
    "Xlengths = training.get_all_Xlengths()\n"
   ]
  },
  {
   "cell_type": "code",
   "execution_count": 27,
   "metadata": {
    "collapsed": false,
    "deletable": true,
    "editable": true,
    "scrolled": true
   },
   "outputs": [
    {
     "name": "stdout",
     "output_type": "stream",
     "text": [
      "Training complete for FISH with 2 states with time 0.01219133232821296 seconds\n",
      "Training complete for BOOK with 9 states with time 3.888001196176314 seconds\n",
      "Training complete for VEGETABLE with 15 states with time 1.3037793205733639 seconds\n",
      "Training complete for FUTURE with 6 states with time 2.8466394732897387 seconds\n",
      "Training complete for JOHN with 14 states with time 53.01647876352825 seconds\n"
     ]
    }
   ],
   "source": [
    "# TODO: Implement SelectorCV in my_model_selector.py\n",
    "from my_model_selectors import SelectorCV\n",
    "words_to_train= ['FISH', 'BOOK', 'VEGETABLE', 'FUTURE', 'JOHN']\n",
    "training = asl.build_training(feature_custom)  # Experiment here with different feature sets defined in part 1\n",
    "sequences = training.get_all_sequences()\n",
    "Xlengths = training.get_all_Xlengths()\n",
    "for word in words_to_train:\n",
    "    \n",
    "    start = timeit.default_timer()\n",
    "    \n",
    "    model = SelectorCV(sequences, Xlengths, word, \n",
    "                    min_n_components=2, max_n_components=15, random_state = 14).select()\n",
    "    \n",
    "    end = timeit.default_timer()-start\n",
    "    if model is not None:\n",
    "        print(\"Training complete for {} with {} states with time {} seconds\".format(word, model.n_components, end))\n",
    "    else:\n",
    "        print(\"Training failed for {}\".format(word))\n"
   ]
  },
  {
   "cell_type": "code",
   "execution_count": 60,
   "metadata": {
    "collapsed": false,
    "deletable": true,
    "editable": true,
    "scrolled": false
   },
   "outputs": [
    {
     "name": "stdout",
     "output_type": "stream",
     "text": [
      "Training complete for FISH with 6 states with time 2.840475464981864 seconds\n",
      "Training complete for BOOK with 12 states with time 8.499720778919254 seconds\n",
      "Training complete for VEGETABLE with 2 states with time 4.288781806943916 seconds\n",
      "Training complete for FUTURE with 6 states with time 7.954542657013917 seconds\n",
      "Training failed for JOHN\n"
     ]
    }
   ],
   "source": [
    "# TODO: Implement SelectorDIC in module my_model_selectors.py\n",
    "from my_model_selectors import SelectorDIC\n",
    "words_to_train= ['FISH', 'BOOK', 'VEGETABLE', 'FUTURE', 'JOHN']\n",
    "training = asl.build_training(feature_custom)  # Experiment here with different feature sets defined in part 1\n",
    "sequences = training.get_all_sequences()\n",
    "Xlengths = training.get_all_Xlengths()\n",
    "for word in words_to_train:\n",
    "    start = timeit.default_timer()\n",
    "    model = SelectorDIC(sequences, Xlengths, word, \n",
    "                    min_n_components=2, max_n_components=15, random_state = 14).select()\n",
    "    end = timeit.default_timer()-start\n",
    "    if model is not None:\n",
    "        print(\"Training complete for {} with {} states with time {} seconds\".format(word, model.n_components, end))\n",
    "    else:\n",
    "        print(\"Training failed for {}\".format(word))"
   ]
  },
  {
   "cell_type": "markdown",
   "metadata": {
    "deletable": true,
    "editable": true
   },
   "source": [
    "**Question 2:**  Compare and contrast the possible advantages and disadvantages of the various model selectors implemented.\n",
    "\n",
    "**Answer 2:** \n",
    "The HMMs models were trained on 5 words using feature_custom.\n",
    "The domain of \"number of occurences\" was well represented by the 5 words provided, with FISH being one of the less frequent and John being the most available sign for training (ca 16% of the times). Also the domain of \"number of distinct\" speakers for sign is well represented, ranging from 1 only for FISH to 3 for JOHN and BOOK.\n",
    "\n",
    "**SIGN** **Occurences in the training dataset** **Number of distinct speakers**\n",
    "FISH                   2                                1\n",
    "BOOK                   18                               3 \n",
    "VEGETABLE              6                                2\n",
    "FUTURE                 15                               2\n",
    "JOHN                   113                              3 \n",
    "\n",
    "Please refer to the training summary below for an overview of the best number of states between 2 and 15 according to BIC,DIC and CV model selection methods.\n",
    "*******************************************************************************\n",
    "BIC\n",
    "Training complete for FISH with 6 states with time 0.3079824062260741 seconds\n",
    "Training complete for VEGETABLE with 4 states with time 0.7154030849133051 seconds\n",
    "Training complete for FUTURE with 9 states with time 1.6199698161590277 seconds\n",
    "Training complete for BOOK with 12 states with time 2.605835441810086 seconds\n",
    "Training complete for JOHN with 15 states with time 36.61999926749195 seconds\n",
    "\n",
    "DIC\n",
    "Training complete for FISH with 4 states with time 2.0472271003618516 seconds\n",
    "Training complete for VEGETABLE with 2 states with time 2.5166164043166646 seconds\n",
    "Training complete for FUTURE with 14 states with time 3.4414029859872244 seconds\n",
    "Training complete for BOOK with 12 states with time 4.25278985303521 seconds\n",
    "Training complete for JOHN with 15 states with time 38.23632164933406 seconds\n",
    "\n",
    "CV\n",
    "Training complete for FISH with 2 states with time 0.014864616376144113 seconds\n",
    "Training complete for VEGETABLE with 15 states with time 1.3071215211084564 seconds\n",
    "Training complete for FUTURE with 6 states with time 3.5878002761628522 seconds\n",
    "Training complete for BOOK with 9 states with time 3.996882689677477 seconds\n",
    "Training complete for JOHN with 14 states with time 48.812004212295506 seconds\n",
    "********************************************************************************\n",
    "We can first notice that the time spent in training increases with the number of examples for each word across all methods.\n",
    "\n",
    "In terms of time required for training, BIC performs better than the other 2 methods. Compared to CV, it does not require a rotating split of the data set in training/test sets nor a training and testing phase. Compared to DIC, it does not require to test for the the probabilities of generating competing words. \n",
    "\n",
    "In terms of model complexity, CV seems to find less complex models than the other two when there is enough training data.\n",
    "For example, the model built for FUTURE, BOOK and JOHN are simpler than the ones identified by BIC and DIC. However, when there is fewer data (ex. VEGETABLE), CV seems to try too hard to explain the training data (15 states vs. 4 or 2 states in BIC and DIC). This was avoided with FISH,where we have only 2 examples in the training set. My program returns a model with 2 states when the number of examples is less than 3. This was done to avoid overfitting, though I am unsure about the expected behaviour in this occasion.\n",
    "BIC is meant to find the simplest model that best explain the data by applying a penalty to model complexity. The penalty is larger when the number of data points is greater than 7.4 (slides http://www2.imm.dtu.dk/courses/02433/doc/ch6_slides.pdf).This may explain why with the words FUTURE, BOOK or JOHN the models found by BIC are either smaller or equal to the ones returned by DIC.  \n",
    "\n"
   ]
  },
  {
   "cell_type": "code",
   "execution_count": 46,
   "metadata": {
    "collapsed": false,
    "deletable": true,
    "editable": true
   },
   "outputs": [
    {
     "name": "stdout",
     "output_type": "stream",
     "text": [
      "Training complete for FISH with 2 states with time 0.41242331803755405 seconds\n",
      "Training complete for BOOK with 6 states with time 2.6233430333868455 seconds\n",
      "Training complete for VEGETABLE with 4 states with time 0.6550613399062968 seconds\n",
      "Training complete for FUTURE with 6 states with time 1.4984219005987143 seconds\n",
      "Training complete for JOHN with 15 states with time 36.32213352846725 seconds\n"
     ]
    }
   ],
   "source": [
    "# TODO: Implement SelectorBIC in module my_model_selectors.py\n",
    "from my_model_selectors import SelectorBIC\n",
    "words_to_train= ['FISH', 'BOOK', 'VEGETABLE', 'FUTURE', 'JOHN']\n",
    "training = asl.build_training(feature_custom)  # Experiment here with different feature sets defined in part 1\n",
    "sequences = training.get_all_sequences()\n",
    "Xlengths = training.get_all_Xlengths()\n",
    "for word in words_to_train:\n",
    "    \n",
    "    start = timeit.default_timer()\n",
    "   \n",
    "    model = SelectorBIC(sequences, Xlengths, word, \n",
    "                    min_n_components=2, max_n_components=15, random_state = 14).select()\n",
    "    \n",
    "    end = timeit.default_timer()-start\n",
    "    if model is not None:\n",
    "        print(\"Training complete for {} with {} states with time {} seconds\".format(word, model.n_components, end))\n",
    "        \n",
    "    else:\n",
    "        print(\"Training failed for {}\".format(word))"
   ]
  },
  {
   "cell_type": "markdown",
   "metadata": {
    "deletable": true,
    "editable": true
   },
   "source": [
    "<a id='part2_test'></a>\n",
    "### Model Selector Unit Testing\n",
    "Run the following unit tests as a sanity check on the implemented model selectors.  The test simply looks for valid interfaces  but is not exhaustive. However, the project should not be submitted if these tests don't pass."
   ]
  },
  {
   "cell_type": "code",
   "execution_count": 59,
   "metadata": {
    "collapsed": false,
    "deletable": true,
    "editable": true
   },
   "outputs": [
    {
     "name": "stderr",
     "output_type": "stream",
     "text": [
      "....\n",
      "----------------------------------------------------------------------\n",
      "Ran 4 tests in 52.483s\n",
      "\n",
      "OK\n"
     ]
    },
    {
     "data": {
      "text/plain": [
       "<unittest.runner.TextTestResult run=4 errors=0 failures=0>"
      ]
     },
     "execution_count": 59,
     "metadata": {},
     "output_type": "execute_result"
    }
   ],
   "source": [
    "from asl_test_model_selectors import TestSelectors\n",
    "suite = unittest.TestLoader().loadTestsFromModule(TestSelectors())\n",
    "unittest.TextTestRunner().run(suite)"
   ]
  },
  {
   "cell_type": "markdown",
   "metadata": {
    "deletable": true,
    "editable": true
   },
   "source": [
    "<a id='part3_tutorial'></a>\n",
    "## PART 3: Recognizer\n",
    "The objective of this section is to \"put it all together\".  Using the four feature sets created and the three model selectors, you will experiment with the models and present your results.  Instead of training only five specific words as in the previous section, train the entire set with a feature set and model selector strategy.  \n",
    "### Recognizer Tutorial\n",
    "##### Train the full training set\n",
    "The following example trains the entire set with the example `features_ground` and `SelectorConstant` features and model selector.  Use this pattern for you experimentation and final submission cells.\n",
    "\n"
   ]
  },
  {
   "cell_type": "code",
   "execution_count": 31,
   "metadata": {
    "collapsed": false,
    "deletable": true,
    "editable": true
   },
   "outputs": [
    {
     "name": "stdout",
     "output_type": "stream",
     "text": [
      "Number of word models returned = 112\n"
     ]
    }
   ],
   "source": [
    "from my_model_selectors import SelectorConstant\n",
    "\n",
    "def train_all_words(features, model_selector):\n",
    "    training = asl.build_training(features)  # Experiment here with different feature sets defined in part 1\n",
    "    sequences = training.get_all_sequences()\n",
    "    Xlengths = training.get_all_Xlengths()\n",
    "    model_dict = {}\n",
    "    for word in training.words:\n",
    "        model = model_selector(sequences, Xlengths, word, \n",
    "                        n_constant=3).select()\n",
    "        model_dict[word]=model\n",
    "    return model_dict\n",
    "\n",
    "models = train_all_words(features_ground, SelectorConstant)\n",
    "print(\"Number of word models returned = {}\".format(len(models)))"
   ]
  },
  {
   "cell_type": "markdown",
   "metadata": {
    "deletable": true,
    "editable": true
   },
   "source": [
    "##### Load the test set\n",
    "The `build_test` method in `ASLdb` is similar to the `build_training` method already presented, but there are a few differences:\n",
    "- the object is type `SinglesData` \n",
    "- the internal dictionary keys are the index of the test word rather than the word itself\n",
    "- the getter methods are `get_all_sequences`, `get_all_Xlengths`, `get_item_sequences` and `get_item_Xlengths`"
   ]
  },
  {
   "cell_type": "code",
   "execution_count": 32,
   "metadata": {
    "collapsed": false,
    "deletable": true,
    "editable": true
   },
   "outputs": [
    {
     "name": "stdout",
     "output_type": "stream",
     "text": [
      "['JOHN', 'WRITE', 'HOMEWORK', 'JOHN', 'CAN', 'GO', 'CAN', 'JOHN', 'CAN', 'GO', 'CAN', 'JOHN', 'FISH', 'WONT', 'EAT', 'BUT', 'CAN', 'EAT', 'CHICKEN', 'JOHN', 'LIKE', 'IX', 'IX', 'IX', 'JOHN', 'LIKE', 'IX', 'IX', 'IX', 'JOHN', 'LIKE', 'IX', 'IX', 'IX', 'MARY', 'VEGETABLE', 'KNOW', 'IX', 'LIKE', 'CORN1', 'JOHN', 'IX', 'THINK', 'MARY', 'LOVE', 'JOHN', 'MUST', 'BUY', 'HOUSE', 'FUTURE', 'JOHN', 'BUY', 'CAR', 'SHOULD', 'JOHN', 'SHOULD', 'NOT', 'BUY', 'HOUSE', 'JOHN', 'DECIDE', 'VISIT', 'MARY', 'JOHN', 'FUTURE', 'NOT', 'BUY', 'HOUSE', 'JOHN', 'WILL', 'VISIT', 'MARY', 'JOHN', 'NOT', 'VISIT', 'MARY', 'ANN', 'BLAME', 'MARY', 'IX-1P', 'FIND', 'SOMETHING-ONE', 'BOOK', 'JOHN', 'IX', 'GIVE', 'MAN', 'IX', 'NEW', 'COAT', 'JOHN', 'GIVE', 'IX', 'SOMETHING-ONE', 'WOMAN', 'BOOK', 'JOHN', 'GIVE', 'IX', 'SOMETHING-ONE', 'WOMAN', 'BOOK', 'POSS', 'NEW', 'CAR', 'BREAK-DOWN', 'JOHN', 'LEG', 'JOHN', 'POSS', 'FRIEND', 'HAVE', 'CANDY', 'WOMAN', 'ARRIVE', 'IX', 'CAR', 'BLUE', 'SUE', 'BUY', 'SUE', 'BUY', 'IX', 'CAR', 'BLUE', 'JOHN', 'READ', 'BOOK', 'JOHN', 'BUY', 'WHAT', 'YESTERDAY', 'BOOK', 'JOHN', 'BUY', 'YESTERDAY', 'WHAT', 'BOOK', 'LOVE', 'JOHN', 'WHO', 'JOHN', 'IX', 'SAY', 'LOVE', 'MARY', 'JOHN', 'MARY', 'BLAME', 'PEOPLE', 'GROUP', 'GIVE1', 'JANA', 'TOY', 'JOHN', 'ARRIVE', 'ALL', 'BOY', 'GIVE', 'TEACHER', 'APPLE', 'JOHN', 'GIVE', 'GIRL', 'BOX', 'JOHN', 'GIVE', 'GIRL', 'BOX', 'LIKE', 'CHOCOLATE', 'WHO', 'JOHN', 'TELL', 'MARY', 'IX-1P', 'BUY', 'HOUSE']\n"
     ]
    }
   ],
   "source": [
    "test_set = asl.build_test(features_ground)\n",
    "\n",
    "#print(test_set.sentences_index)\n",
    "print(test_set.wordlist)\n",
    "#print(test_set.df.ix[0])\n",
    "#print(test_set._hmm_data[0])\n",
    "#print(test_set.num_items)\n",
    "#print(\"Number of test set items: {}\".format(test_set.num_items))\n",
    "#print(\"Number of test set sentences: {}\".format(len(test_set.sentences_index)))"
   ]
  },
  {
   "cell_type": "markdown",
   "metadata": {
    "deletable": true,
    "editable": true
   },
   "source": [
    "<a id='part3_submission'></a>\n",
    "### Recognizer Implementation Submission\n",
    "For the final project submission, students must implement a recognizer following guidance in the `my_recognizer.py` module.  Experiment with the four feature sets and the three model selection methods (that's 12 possible combinations). You can add and remove cells for experimentation or run the recognizers locally in some other way during your experiments, but retain the results for your discussion.  For submission, you will provide code cells of **only three** interesting combinations for your discussion (see questions below). At least one of these should produce a word error rate of less than 60%, i.e. WER < 0.60 . \n",
    "\n",
    "**Tip:** The hmmlearn library may not be able to train or score all models.  Implement try/except contructs as necessary to eliminate non-viable models from consideration."
   ]
  },
  {
   "cell_type": "code",
   "execution_count": 33,
   "metadata": {
    "collapsed": true,
    "deletable": true,
    "editable": true
   },
   "outputs": [],
   "source": [
    "# TODO implement the recognize method in my_recognizer\n",
    "from my_recognizer import recognize\n",
    "from asl_utils import show_errors\n",
    "from my_model_selectors import SelectorBIC\n",
    "from my_model_selectors import SelectorDIC\n",
    "from my_model_selectors import SelectorCV"
   ]
  },
  {
   "cell_type": "code",
   "execution_count": 34,
   "metadata": {
    "collapsed": false,
    "deletable": true,
    "editable": true
   },
   "outputs": [
    {
     "data": {
      "text/plain": [
       "['resc-rx',\n",
       " 'resc-ry',\n",
       " 'resc-lx',\n",
       " 'resc-ly',\n",
       " 'resc-polar-rr',\n",
       " 'resc-polar-rtheta',\n",
       " 'resc-polar-lr',\n",
       " 'resc-polar-ltheta',\n",
       " 'norm-delta-rx',\n",
       " 'norm-delta-ry',\n",
       " 'norm-delta-lx',\n",
       " 'norm-delta-ly']"
      ]
     },
     "execution_count": 34,
     "metadata": {},
     "output_type": "execute_result"
    }
   ],
   "source": [
    "feature_custom"
   ]
  },
  {
   "cell_type": "code",
   "execution_count": 54,
   "metadata": {
    "collapsed": false,
    "deletable": true,
    "editable": true
   },
   "outputs": [
    {
     "name": "stdout",
     "output_type": "stream",
     "text": [
      "****Your Guess is: POSS whilst the word in test is: JOHN\n",
      "****Your Guess is: PEOPLE whilst the word in test is: CAN\n",
      "****Your Guess is: MARY whilst the word in test is: GO\n",
      "****Your Guess is: TOY whilst the word in test is: CAN\n",
      "****Your Guess is: CAR whilst the word in test is: JOHN\n",
      "****Your Guess is: WHAT whilst the word in test is: CAN\n",
      "****Your Guess is: ANN whilst the word in test is: JOHN\n",
      "****Your Guess is: HOMEWORK whilst the word in test is: WONT\n",
      "****Your Guess is: ANN whilst the word in test is: EAT\n",
      "****Your Guess is: BLAME whilst the word in test is: BUT\n",
      "****Your Guess is: BLAME whilst the word in test is: CAN\n",
      "****Your Guess is: CHICKEN whilst the word in test is: EAT\n",
      "****Your Guess is: EAT whilst the word in test is: CHICKEN\n",
      "****Your Guess is: ANN whilst the word in test is: JOHN\n",
      "****Your Guess is: ANN whilst the word in test is: IX\n",
      "****Your Guess is: LIKE whilst the word in test is: IX\n",
      "****Your Guess is: ANN whilst the word in test is: IX\n",
      "****Your Guess is: ANN whilst the word in test is: JOHN\n",
      "****Your Guess is: ANN whilst the word in test is: IX\n",
      "****Your Guess is: LIKE whilst the word in test is: IX\n",
      "****Your Guess is: ANN whilst the word in test is: IX\n",
      "****Your Guess is: IX whilst the word in test is: JOHN\n",
      "****Your Guess is: MARY whilst the word in test is: IX\n",
      "****Your Guess is: LIKE whilst the word in test is: IX\n",
      "****Your Guess is: JOHN whilst the word in test is: VEGETABLE\n",
      "****Your Guess is: GIVE whilst the word in test is: KNOW\n",
      "****Your Guess is: VISIT whilst the word in test is: IX\n",
      "****Your Guess is: FRANK whilst the word in test is: LIKE\n",
      "****Your Guess is: IX whilst the word in test is: CORN1\n",
      "****Your Guess is: FRANK whilst the word in test is: IX\n",
      "****Your Guess is: SELF whilst the word in test is: THINK\n",
      "****Your Guess is: VEGETABLE whilst the word in test is: MARY\n",
      "****Your Guess is: MARY whilst the word in test is: LOVE\n",
      "****Your Guess is: FUTURE whilst the word in test is: MUST\n",
      "****Your Guess is: JOHN whilst the word in test is: FUTURE\n",
      "****Your Guess is: FRANK whilst the word in test is: JOHN\n",
      "****Your Guess is: WRITE whilst the word in test is: BUY\n",
      "****Your Guess is: FUTURE whilst the word in test is: NOT\n",
      "****Your Guess is: IX whilst the word in test is: JOHN\n",
      "****Your Guess is: MARY whilst the word in test is: DECIDE\n",
      "****Your Guess is: LEAVE whilst the word in test is: VISIT\n",
      "****Your Guess is: FRANK whilst the word in test is: MARY\n",
      "****Your Guess is: FUTURE whilst the word in test is: NOT\n",
      "****Your Guess is: STUDENT whilst the word in test is: BUY\n",
      "****Your Guess is: IX whilst the word in test is: JOHN\n",
      "****Your Guess is: WHO whilst the word in test is: NOT\n",
      "****Your Guess is: MARY whilst the word in test is: VISIT\n",
      "****Your Guess is: HOMEWORK whilst the word in test is: IX-1P\n",
      "****Your Guess is: STUDENT whilst the word in test is: FIND\n",
      "****Your Guess is: HOMEWORK whilst the word in test is: SOMETHING-ONE\n",
      "****Your Guess is: THINK whilst the word in test is: JOHN\n",
      "****Your Guess is: WILL whilst the word in test is: IX\n",
      "****Your Guess is: BILL whilst the word in test is: MAN\n",
      "****Your Guess is: SOMETHING-ONE whilst the word in test is: IX\n",
      "****Your Guess is: BLAME whilst the word in test is: NEW\n",
      "****Your Guess is: IX whilst the word in test is: GIVE\n",
      "****Your Guess is: IX whilst the word in test is: SOMETHING-ONE\n",
      "****Your Guess is: CORN whilst the word in test is: WOMAN\n",
      "****Your Guess is: WILL whilst the word in test is: GIVE\n",
      "****Your Guess is: SOMETHING-ONE whilst the word in test is: IX\n",
      "****Your Guess is: OLD whilst the word in test is: WOMAN\n",
      "****Your Guess is: SEE whilst the word in test is: LEG\n",
      "****Your Guess is: MARY whilst the word in test is: JOHN\n",
      "****Your Guess is: SOMETHING-ONE whilst the word in test is: POSS\n",
      "****Your Guess is: MARY whilst the word in test is: HAVE\n",
      "****Your Guess is: JOHN whilst the word in test is: CANDY\n",
      "****Your Guess is: OLD whilst the word in test is: WOMAN\n",
      "****Your Guess is: BUY whilst the word in test is: ARRIVE\n",
      "****Your Guess is: SHOOT whilst the word in test is: IX\n",
      "****Your Guess is: VEGETABLE whilst the word in test is: SUE\n",
      "****Your Guess is: JOHN whilst the word in test is: CAR\n",
      "****Your Guess is: POSS whilst the word in test is: BLUE\n",
      "****Your Guess is: COAT whilst the word in test is: BOOK\n",
      "****Your Guess is: TOY whilst the word in test is: WHAT\n",
      "****Your Guess is: STUDENT whilst the word in test is: BUY\n",
      "****Your Guess is: MARY whilst the word in test is: JOHN\n",
      "****Your Guess is: MARY whilst the word in test is: JOHN\n",
      "****Your Guess is: MARY whilst the word in test is: IX\n",
      "****Your Guess is: MARY whilst the word in test is: SAY\n",
      "****Your Guess is: PUTASIDE whilst the word in test is: MARY\n",
      "****Your Guess is: MARY whilst the word in test is: JOHN\n",
      "****Your Guess is: TOY whilst the word in test is: MARY\n",
      "****Your Guess is: NEW whilst the word in test is: PEOPLE\n",
      "****Your Guess is: GIVE whilst the word in test is: GIVE1\n",
      "****Your Guess is: CORN whilst the word in test is: JANA\n",
      "****Your Guess is: SUE whilst the word in test is: JOHN\n",
      "****Your Guess is: THROW whilst the word in test is: ALL\n",
      "****Your Guess is: JANA whilst the word in test is: JOHN\n",
      "****Your Guess is: SELF whilst the word in test is: GIVE\n",
      "****Your Guess is: CORN whilst the word in test is: GIRL\n",
      "****Your Guess is: LIVE whilst the word in test is: BOX\n",
      "****Your Guess is: IX whilst the word in test is: JOHN\n",
      "****Your Guess is: SELF whilst the word in test is: GIVE\n",
      "****Your Guess is: CORN whilst the word in test is: GIRL\n",
      "****Your Guess is: HOMEWORK whilst the word in test is: LIKE\n",
      "****Your Guess is: JOHN whilst the word in test is: WHO\n",
      "****Your Guess is: THINK whilst the word in test is: TELL\n",
      "****Your Guess is: OLD whilst the word in test is: MARY\n",
      "****Your Guess is: LIKE whilst the word in test is: IX-1P\n",
      "\n",
      "**** WER = 0.5561797752808989\n",
      "Total correct: 79 out of 178\n",
      "Video  Recognized                                                    Correct\n",
      "=====================================================================================================\n",
      "    2: *POSS WRITE HOMEWORK                                          JOHN WRITE HOMEWORK\n",
      "    7: JOHN *PEOPLE *MARY *TOY                                       JOHN CAN GO CAN\n",
      "   12: *CAR *WHAT GO CAN                                             JOHN CAN GO CAN\n",
      "   21: *ANN FISH *HOMEWORK *ANN *BLAME *BLAME *CHICKEN *EAT          JOHN FISH WONT EAT BUT CAN EAT CHICKEN\n",
      "   25: *ANN LIKE *ANN *LIKE *ANN                                     JOHN LIKE IX IX IX\n",
      "   28: *ANN LIKE *ANN *LIKE *ANN                                     JOHN LIKE IX IX IX\n",
      "   30: *IX LIKE *MARY *LIKE IX                                       JOHN LIKE IX IX IX\n",
      "   36: MARY *JOHN *GIVE *VISIT *FRANK *IX                            MARY VEGETABLE KNOW IX LIKE CORN1\n",
      "   40: JOHN *FRANK *SELF *VEGETABLE *MARY                            JOHN IX THINK MARY LOVE\n",
      "   43: JOHN *FUTURE BUY HOUSE                                        JOHN MUST BUY HOUSE\n",
      "   50: *JOHN *FRANK *WRITE CAR SHOULD                                FUTURE JOHN BUY CAR SHOULD\n",
      "   54: JOHN SHOULD *FUTURE BUY HOUSE                                 JOHN SHOULD NOT BUY HOUSE\n",
      "   57: *IX *MARY *LEAVE *FRANK                                       JOHN DECIDE VISIT MARY\n",
      "   67: JOHN FUTURE *FUTURE *STUDENT HOUSE                            JOHN FUTURE NOT BUY HOUSE\n",
      "   71: JOHN WILL VISIT MARY                                          JOHN WILL VISIT MARY\n",
      "   74: *IX *WHO *MARY MARY                                           JOHN NOT VISIT MARY\n",
      "   77: ANN BLAME MARY                                                ANN BLAME MARY\n",
      "   84: *HOMEWORK *STUDENT *HOMEWORK BOOK                             IX-1P FIND SOMETHING-ONE BOOK\n",
      "   89: *THINK *WILL GIVE *BILL *SOMETHING-ONE *BLAME COAT            JOHN IX GIVE MAN IX NEW COAT\n",
      "   90: JOHN *IX IX *IX *CORN BOOK                                    JOHN GIVE IX SOMETHING-ONE WOMAN BOOK\n",
      "   92: JOHN *WILL *SOMETHING-ONE SOMETHING-ONE *OLD BOOK             JOHN GIVE IX SOMETHING-ONE WOMAN BOOK\n",
      "  100: POSS NEW CAR BREAK-DOWN                                       POSS NEW CAR BREAK-DOWN\n",
      "  105: JOHN *SEE                                                     JOHN LEG\n",
      "  107: *MARY *SOMETHING-ONE FRIEND *MARY *JOHN                       JOHN POSS FRIEND HAVE CANDY\n",
      "  108: *OLD *BUY                                                     WOMAN ARRIVE\n",
      "  113: *SHOOT CAR BLUE SUE BUY                                       IX CAR BLUE SUE BUY\n",
      "  119: *VEGETABLE BUY IX *JOHN *POSS                                 SUE BUY IX CAR BLUE\n",
      "  122: JOHN READ *COAT                                               JOHN READ BOOK\n",
      "  139: JOHN BUY *TOY YESTERDAY BOOK                                  JOHN BUY WHAT YESTERDAY BOOK\n",
      "  142: JOHN *STUDENT YESTERDAY WHAT BOOK                             JOHN BUY YESTERDAY WHAT BOOK\n",
      "  158: LOVE *MARY WHO                                                LOVE JOHN WHO\n",
      "  167: *MARY *MARY *MARY LOVE *PUTASIDE                              JOHN IX SAY LOVE MARY\n",
      "  171: *MARY *TOY BLAME                                              JOHN MARY BLAME\n",
      "  174: *NEW GROUP *GIVE *CORN TOY                                    PEOPLE GROUP GIVE1 JANA TOY\n",
      "  181: *SUE ARRIVE                                                   JOHN ARRIVE\n",
      "  184: *THROW BOY GIVE TEACHER APPLE                                 ALL BOY GIVE TEACHER APPLE\n",
      "  189: *JANA *SELF *CORN *LIVE                                       JOHN GIVE GIRL BOX\n",
      "  193: *IX *SELF *CORN BOX                                           JOHN GIVE GIRL BOX\n",
      "  199: *HOMEWORK CHOCOLATE *JOHN                                     LIKE CHOCOLATE WHO\n",
      "  201: JOHN *THINK *OLD *LIKE BUY HOUSE                              JOHN TELL MARY IX-1P BUY HOUSE\n"
     ]
    }
   ],
   "source": [
    "# TODO Choose a feature set and model selector\n",
    "feature_custom=  ['resc-rx','resc-ry','resc-lx','resc-ly']\n",
    "features = feature_custom # change as needed\n",
    "model_selector = SelectorBIC # change as needed\n",
    "# TODO Recognize the test set and display the result with the show_errors method\n",
    "models = train_all_words(features, model_selector)\n",
    "test_set = asl.build_test(features)\n",
    "probabilities, guesses = recognize(models, test_set)\n",
    "show_errors(guesses, test_set)"
   ]
  },
  {
   "cell_type": "code",
   "execution_count": 55,
   "metadata": {
    "collapsed": false,
    "deletable": true,
    "editable": true
   },
   "outputs": [
    {
     "name": "stdout",
     "output_type": "stream",
     "text": [
      "****Your Guess is: IX whilst the word in test is: JOHN\n",
      "****Your Guess is: SOMETHING-ONE whilst the word in test is: JOHN\n",
      "****Your Guess is: NEXT-WEEK whilst the word in test is: CAN\n",
      "****Your Guess is: MARY whilst the word in test is: GO\n",
      "****Your Guess is: TOY whilst the word in test is: CAN\n",
      "****Your Guess is: TEACHER whilst the word in test is: CAN\n",
      "****Your Guess is: DECIDE whilst the word in test is: GO\n",
      "****Your Guess is: HOUSE whilst the word in test is: CAN\n",
      "****Your Guess is: MARY whilst the word in test is: JOHN\n",
      "****Your Guess is: MARY whilst the word in test is: EAT\n",
      "****Your Guess is: SELL whilst the word in test is: CAN\n",
      "****Your Guess is: CHICKEN whilst the word in test is: EAT\n",
      "****Your Guess is: TOMORROW whilst the word in test is: CHICKEN\n",
      "****Your Guess is: ANN whilst the word in test is: JOHN\n",
      "****Your Guess is: ANN whilst the word in test is: LIKE\n",
      "****Your Guess is: GO whilst the word in test is: IX\n",
      "****Your Guess is: ANN whilst the word in test is: IX\n",
      "****Your Guess is: ANN whilst the word in test is: IX\n",
      "****Your Guess is: ANN whilst the word in test is: JOHN\n",
      "****Your Guess is: ANN whilst the word in test is: LIKE\n",
      "****Your Guess is: GO whilst the word in test is: IX\n",
      "****Your Guess is: ANN whilst the word in test is: IX\n",
      "****Your Guess is: LOVE whilst the word in test is: IX\n",
      "****Your Guess is: IX whilst the word in test is: JOHN\n",
      "****Your Guess is: MARY whilst the word in test is: IX\n",
      "****Your Guess is: MARY whilst the word in test is: IX\n",
      "****Your Guess is: MARY whilst the word in test is: IX\n",
      "****Your Guess is: VISIT whilst the word in test is: MARY\n",
      "****Your Guess is: YESTERDAY whilst the word in test is: KNOW\n",
      "****Your Guess is: GIVE whilst the word in test is: IX\n",
      "****Your Guess is: MARY whilst the word in test is: LIKE\n",
      "****Your Guess is: MARY whilst the word in test is: CORN1\n",
      "****Your Guess is: MARY whilst the word in test is: JOHN\n",
      "****Your Guess is: VISIT whilst the word in test is: IX\n",
      "****Your Guess is: DECIDE whilst the word in test is: THINK\n",
      "****Your Guess is: MARY whilst the word in test is: LOVE\n",
      "****Your Guess is: PAST whilst the word in test is: MUST\n",
      "****Your Guess is: FRIEND whilst the word in test is: BUY\n",
      "****Your Guess is: FRANK whilst the word in test is: FUTURE\n",
      "****Your Guess is: SEE whilst the word in test is: JOHN\n",
      "****Your Guess is: WRITE whilst the word in test is: BUY\n",
      "****Your Guess is: MARY whilst the word in test is: SHOULD\n",
      "****Your Guess is: THINK whilst the word in test is: NOT\n",
      "****Your Guess is: MARY whilst the word in test is: JOHN\n",
      "****Your Guess is: PREFER whilst the word in test is: DECIDE\n",
      "****Your Guess is: GIVE whilst the word in test is: MARY\n",
      "****Your Guess is: LIKE whilst the word in test is: JOHN\n",
      "****Your Guess is: WHO whilst the word in test is: NOT\n",
      "****Your Guess is: LIVE whilst the word in test is: BUY\n",
      "****Your Guess is: IX whilst the word in test is: JOHN\n",
      "****Your Guess is: VISIT whilst the word in test is: NOT\n",
      "****Your Guess is: SHOOT whilst the word in test is: VISIT\n",
      "****Your Guess is: ANN whilst the word in test is: IX-1P\n",
      "****Your Guess is: STUDENT whilst the word in test is: FIND\n",
      "****Your Guess is: VISIT whilst the word in test is: SOMETHING-ONE\n",
      "****Your Guess is: THINK whilst the word in test is: JOHN\n",
      "****Your Guess is: SOMETHING-ONE whilst the word in test is: IX\n",
      "****Your Guess is: WOMAN whilst the word in test is: GIVE\n",
      "****Your Guess is: IX whilst the word in test is: MAN\n",
      "****Your Guess is: WOMAN whilst the word in test is: IX\n",
      "****Your Guess is: BREAK-DOWN whilst the word in test is: COAT\n",
      "****Your Guess is: IX whilst the word in test is: SOMETHING-ONE\n",
      "****Your Guess is: ARRIVE whilst the word in test is: BOOK\n",
      "****Your Guess is: FRANK whilst the word in test is: JOHN\n",
      "****Your Guess is: WOMAN whilst the word in test is: GIVE\n",
      "****Your Guess is: FRANK whilst the word in test is: JOHN\n",
      "****Your Guess is: SEE whilst the word in test is: LEG\n",
      "****Your Guess is: LIKE whilst the word in test is: JOHN\n",
      "****Your Guess is: SUE whilst the word in test is: POSS\n",
      "****Your Guess is: MARY whilst the word in test is: HAVE\n",
      "****Your Guess is: CHOCOLATE whilst the word in test is: ARRIVE\n",
      "****Your Guess is: WHAT whilst the word in test is: CAR\n",
      "****Your Guess is: TOY whilst the word in test is: SUE\n",
      "****Your Guess is: PREFER whilst the word in test is: SUE\n",
      "****Your Guess is: BLUE whilst the word in test is: IX\n",
      "****Your Guess is: TOY whilst the word in test is: CAR\n",
      "****Your Guess is: SELF whilst the word in test is: BLUE\n",
      "****Your Guess is: SOMETHING-ONE whilst the word in test is: JOHN\n",
      "****Your Guess is: GIVE whilst the word in test is: READ\n",
      "****Your Guess is: TOY whilst the word in test is: WHAT\n",
      "****Your Guess is: PEOPLE whilst the word in test is: YESTERDAY\n",
      "****Your Guess is: FRANK whilst the word in test is: JOHN\n",
      "****Your Guess is: GROUP whilst the word in test is: BUY\n",
      "****Your Guess is: MARY whilst the word in test is: JOHN\n",
      "****Your Guess is: TOY whilst the word in test is: IX\n",
      "****Your Guess is: SAY-P whilst the word in test is: SAY\n",
      "****Your Guess is: PUTASIDE whilst the word in test is: LOVE\n",
      "****Your Guess is: TOY whilst the word in test is: MARY\n",
      "****Your Guess is: CAN whilst the word in test is: PEOPLE\n",
      "****Your Guess is: GIVE whilst the word in test is: GIVE1\n",
      "****Your Guess is: CORN whilst the word in test is: JANA\n",
      "****Your Guess is: SUE whilst the word in test is: JOHN\n",
      "****Your Guess is: JANA whilst the word in test is: JOHN\n",
      "****Your Guess is: SELF whilst the word in test is: GIVE\n",
      "****Your Guess is: FUTURE whilst the word in test is: GIRL\n",
      "****Your Guess is: LIVE whilst the word in test is: BOX\n",
      "****Your Guess is: MARY whilst the word in test is: JOHN\n",
      "****Your Guess is: SEARCH-FOR whilst the word in test is: GIRL\n",
      "****Your Guess is: JOHN whilst the word in test is: LIKE\n",
      "****Your Guess is: HOMEWORK whilst the word in test is: CHOCOLATE\n",
      "****Your Guess is: FRANK whilst the word in test is: JOHN\n",
      "****Your Guess is: THINK whilst the word in test is: TELL\n",
      "****Your Guess is: IX whilst the word in test is: MARY\n",
      "****Your Guess is: LIKE whilst the word in test is: IX-1P\n",
      "\n",
      "**** WER = 0.5842696629213483\n",
      "Total correct: 74 out of 178\n",
      "Video  Recognized                                                    Correct\n",
      "=====================================================================================================\n",
      "    2: *IX WRITE HOMEWORK                                            JOHN WRITE HOMEWORK\n",
      "    7: *SOMETHING-ONE *NEXT-WEEK *MARY *TOY                          JOHN CAN GO CAN\n",
      "   12: JOHN *TEACHER *DECIDE *HOUSE                                  JOHN CAN GO CAN\n",
      "   21: *MARY FISH WONT *MARY BUT *SELL *CHICKEN *TOMORROW            JOHN FISH WONT EAT BUT CAN EAT CHICKEN\n",
      "   25: *ANN *ANN *GO *ANN *ANN                                       JOHN LIKE IX IX IX\n",
      "   28: *ANN *ANN *GO *ANN *LOVE                                      JOHN LIKE IX IX IX\n",
      "   30: *IX LIKE *MARY *MARY *MARY                                    JOHN LIKE IX IX IX\n",
      "   36: *VISIT VEGETABLE *YESTERDAY *GIVE *MARY *MARY                 MARY VEGETABLE KNOW IX LIKE CORN1\n",
      "   40: *MARY *VISIT *DECIDE MARY *MARY                               JOHN IX THINK MARY LOVE\n",
      "   43: JOHN *PAST *FRIEND HOUSE                                      JOHN MUST BUY HOUSE\n",
      "   50: *FRANK *SEE *WRITE CAR SHOULD                                 FUTURE JOHN BUY CAR SHOULD\n",
      "   54: JOHN *MARY *THINK BUY HOUSE                                   JOHN SHOULD NOT BUY HOUSE\n",
      "   57: *MARY *PREFER VISIT *GIVE                                     JOHN DECIDE VISIT MARY\n",
      "   67: *LIKE FUTURE *WHO *LIVE HOUSE                                 JOHN FUTURE NOT BUY HOUSE\n",
      "   71: JOHN WILL VISIT MARY                                          JOHN WILL VISIT MARY\n",
      "   74: *IX *VISIT *SHOOT MARY                                        JOHN NOT VISIT MARY\n",
      "   77: ANN BLAME MARY                                                ANN BLAME MARY\n",
      "   84: *ANN *STUDENT *VISIT BOOK                                     IX-1P FIND SOMETHING-ONE BOOK\n",
      "   89: *THINK *SOMETHING-ONE *WOMAN *IX *WOMAN NEW *BREAK-DOWN       JOHN IX GIVE MAN IX NEW COAT\n",
      "   90: JOHN GIVE IX *IX WOMAN *ARRIVE                                JOHN GIVE IX SOMETHING-ONE WOMAN BOOK\n",
      "   92: *FRANK *WOMAN IX SOMETHING-ONE WOMAN BOOK                     JOHN GIVE IX SOMETHING-ONE WOMAN BOOK\n",
      "  100: POSS NEW CAR BREAK-DOWN                                       POSS NEW CAR BREAK-DOWN\n",
      "  105: *FRANK *SEE                                                   JOHN LEG\n",
      "  107: *LIKE *SUE FRIEND *MARY CANDY                                 JOHN POSS FRIEND HAVE CANDY\n",
      "  108: WOMAN *CHOCOLATE                                              WOMAN ARRIVE\n",
      "  113: IX *WHAT BLUE *TOY BUY                                        IX CAR BLUE SUE BUY\n",
      "  119: *PREFER BUY *BLUE *TOY *SELF                                  SUE BUY IX CAR BLUE\n",
      "  122: *SOMETHING-ONE *GIVE BOOK                                     JOHN READ BOOK\n",
      "  139: JOHN BUY *TOY *PEOPLE BOOK                                    JOHN BUY WHAT YESTERDAY BOOK\n",
      "  142: *FRANK *GROUP YESTERDAY WHAT BOOK                             JOHN BUY YESTERDAY WHAT BOOK\n",
      "  158: LOVE *MARY WHO                                                LOVE JOHN WHO\n",
      "  167: JOHN *TOY *SAY-P *PUTASIDE MARY                               JOHN IX SAY LOVE MARY\n",
      "  171: JOHN *TOY BLAME                                               JOHN MARY BLAME\n",
      "  174: *CAN GROUP *GIVE *CORN TOY                                    PEOPLE GROUP GIVE1 JANA TOY\n",
      "  181: *SUE ARRIVE                                                   JOHN ARRIVE\n",
      "  184: ALL BOY GIVE TEACHER APPLE                                    ALL BOY GIVE TEACHER APPLE\n",
      "  189: *JANA *SELF *FUTURE *LIVE                                     JOHN GIVE GIRL BOX\n",
      "  193: *MARY GIVE *SEARCH-FOR BOX                                    JOHN GIVE GIRL BOX\n",
      "  199: *JOHN *HOMEWORK WHO                                           LIKE CHOCOLATE WHO\n",
      "  201: *FRANK *THINK *IX *LIKE BUY HOUSE                             JOHN TELL MARY IX-1P BUY HOUSE\n"
     ]
    }
   ],
   "source": [
    "# TODO Choose a feature set and model selector\n",
    "# TODO Recognize the test set and display the result with the show_errors method\n",
    "feature_custom=  ['resc-polar-rr','resc-polar-rtheta','resc-polar-lr','resc-polar-ltheta']\n",
    "features = feature_custom # change as needed\n",
    "model_selector = SelectorBIC # change as needed\n",
    "# TODO Recognize the test set and display the result with the show_errors method\n",
    "models = train_all_words(features, model_selector)\n",
    "test_set = asl.build_test(features)\n",
    "probabilities, guesses = recognize(models, test_set)\n",
    "show_errors(guesses, test_set)"
   ]
  },
  {
   "cell_type": "code",
   "execution_count": 56,
   "metadata": {
    "collapsed": false,
    "deletable": true,
    "editable": true
   },
   "outputs": [
    {
     "name": "stdout",
     "output_type": "stream",
     "text": [
      "****Your Guess is: BUY whilst the word in test is: WRITE\n",
      "****Your Guess is: STUDENT whilst the word in test is: CAN\n",
      "****Your Guess is: GIVE whilst the word in test is: GO\n",
      "****Your Guess is: VISIT whilst the word in test is: CAN\n",
      "****Your Guess is: IX whilst the word in test is: FISH\n",
      "****Your Guess is: GO whilst the word in test is: WONT\n",
      "****Your Guess is: MARY whilst the word in test is: EAT\n",
      "****Your Guess is: NEW whilst the word in test is: BUT\n",
      "****Your Guess is: VISIT whilst the word in test is: CAN\n",
      "****Your Guess is: FUTURE whilst the word in test is: EAT\n",
      "****Your Guess is: MARY whilst the word in test is: CHICKEN\n",
      "****Your Guess is: IX whilst the word in test is: LIKE\n",
      "****Your Guess is: JOHN whilst the word in test is: IX\n",
      "****Your Guess is: IX whilst the word in test is: LIKE\n",
      "****Your Guess is: WOMAN whilst the word in test is: IX\n",
      "****Your Guess is: JOHN whilst the word in test is: LIKE\n",
      "****Your Guess is: MARY whilst the word in test is: IX\n",
      "****Your Guess is: JOHN whilst the word in test is: IX\n",
      "****Your Guess is: JOHN whilst the word in test is: MARY\n",
      "****Your Guess is: JOHN whilst the word in test is: VEGETABLE\n",
      "****Your Guess is: MARY whilst the word in test is: KNOW\n",
      "****Your Guess is: GIVE whilst the word in test is: IX\n",
      "****Your Guess is: JOHN whilst the word in test is: LIKE\n",
      "****Your Guess is: JOHN whilst the word in test is: CORN1\n",
      "****Your Guess is: JOHN whilst the word in test is: THINK\n",
      "****Your Guess is: JOHN whilst the word in test is: MARY\n",
      "****Your Guess is: JOHN whilst the word in test is: LOVE\n",
      "****Your Guess is: JOHN whilst the word in test is: MUST\n",
      "****Your Guess is: JOHN whilst the word in test is: FUTURE\n",
      "****Your Guess is: MARY whilst the word in test is: SHOULD\n",
      "****Your Guess is: IX whilst the word in test is: SHOULD\n",
      "****Your Guess is: IX whilst the word in test is: NOT\n",
      "****Your Guess is: JOHN whilst the word in test is: DECIDE\n",
      "****Your Guess is: IX whilst the word in test is: VISIT\n",
      "****Your Guess is: JOHN whilst the word in test is: FUTURE\n",
      "****Your Guess is: JOHN whilst the word in test is: NOT\n",
      "****Your Guess is: JOHN whilst the word in test is: WILL\n",
      "****Your Guess is: CAR whilst the word in test is: MARY\n",
      "****Your Guess is: MARY whilst the word in test is: NOT\n",
      "****Your Guess is: JOHN whilst the word in test is: VISIT\n",
      "****Your Guess is: JOHN whilst the word in test is: ANN\n",
      "****Your Guess is: IX whilst the word in test is: MARY\n",
      "****Your Guess is: JOHN whilst the word in test is: IX-1P\n",
      "****Your Guess is: CAR whilst the word in test is: FIND\n",
      "****Your Guess is: JOHN whilst the word in test is: SOMETHING-ONE\n",
      "****Your Guess is: VISIT whilst the word in test is: JOHN\n",
      "****Your Guess is: JOHN whilst the word in test is: IX\n",
      "****Your Guess is: IX whilst the word in test is: GIVE\n",
      "****Your Guess is: JOHN whilst the word in test is: MAN\n",
      "****Your Guess is: ARRIVE whilst the word in test is: NEW\n",
      "****Your Guess is: CAN whilst the word in test is: COAT\n",
      "****Your Guess is: JOHN whilst the word in test is: GIVE\n",
      "****Your Guess is: JOHN whilst the word in test is: IX\n",
      "****Your Guess is: IX whilst the word in test is: SOMETHING-ONE\n",
      "****Your Guess is: IX whilst the word in test is: WOMAN\n",
      "****Your Guess is: JOHN whilst the word in test is: BOOK\n",
      "****Your Guess is: IX whilst the word in test is: GIVE\n",
      "****Your Guess is: JOHN whilst the word in test is: SOMETHING-ONE\n",
      "****Your Guess is: VISIT whilst the word in test is: BOOK\n",
      "****Your Guess is: JOHN whilst the word in test is: POSS\n",
      "****Your Guess is: MANY whilst the word in test is: BREAK-DOWN\n",
      "****Your Guess is: JOHN whilst the word in test is: LEG\n",
      "****Your Guess is: IX whilst the word in test is: POSS\n",
      "****Your Guess is: PEOPLE whilst the word in test is: FRIEND\n",
      "****Your Guess is: JOHN whilst the word in test is: CANDY\n",
      "****Your Guess is: JOHN whilst the word in test is: WOMAN\n",
      "****Your Guess is: JOHN whilst the word in test is: IX\n",
      "****Your Guess is: PEOPLE whilst the word in test is: CAR\n",
      "****Your Guess is: JOHN whilst the word in test is: BLUE\n",
      "****Your Guess is: JOHN whilst the word in test is: SUE\n",
      "****Your Guess is: JOHN whilst the word in test is: SUE\n",
      "****Your Guess is: MARY whilst the word in test is: BLUE\n",
      "****Your Guess is: PEOPLE whilst the word in test is: READ\n",
      "****Your Guess is: CAR whilst the word in test is: WHAT\n",
      "****Your Guess is: JOHN whilst the word in test is: YESTERDAY\n",
      "****Your Guess is: ARRIVE whilst the word in test is: BOOK\n",
      "****Your Guess is: JOHN whilst the word in test is: WHO\n",
      "****Your Guess is: JOHN whilst the word in test is: IX\n",
      "****Your Guess is: IX whilst the word in test is: SAY\n",
      "****Your Guess is: VISIT whilst the word in test is: LOVE\n",
      "****Your Guess is: VISIT whilst the word in test is: MARY\n",
      "****Your Guess is: MARY whilst the word in test is: JOHN\n",
      "****Your Guess is: JOHN whilst the word in test is: MARY\n",
      "****Your Guess is: VISIT whilst the word in test is: PEOPLE\n",
      "****Your Guess is: JOHN whilst the word in test is: GROUP\n",
      "****Your Guess is: GIVE whilst the word in test is: GIVE1\n",
      "****Your Guess is: JOHN whilst the word in test is: JANA\n",
      "****Your Guess is: BOX whilst the word in test is: TOY\n",
      "****Your Guess is: NEW whilst the word in test is: ARRIVE\n",
      "****Your Guess is: IX whilst the word in test is: ALL\n",
      "****Your Guess is: JOHN whilst the word in test is: BOY\n",
      "****Your Guess is: BREAK-DOWN whilst the word in test is: TEACHER\n",
      "****Your Guess is: JOHN whilst the word in test is: APPLE\n",
      "****Your Guess is: JOHN whilst the word in test is: GIVE\n",
      "****Your Guess is: JOHN whilst the word in test is: GIRL\n",
      "****Your Guess is: IX whilst the word in test is: BOX\n",
      "****Your Guess is: IX whilst the word in test is: GIVE\n",
      "****Your Guess is: IX whilst the word in test is: GIRL\n",
      "****Your Guess is: BLAME whilst the word in test is: BOX\n",
      "****Your Guess is: JOHN whilst the word in test is: LIKE\n",
      "****Your Guess is: FUTURE whilst the word in test is: CHOCOLATE\n",
      "****Your Guess is: MARY whilst the word in test is: WHO\n",
      "****Your Guess is: IX whilst the word in test is: TELL\n",
      "****Your Guess is: IX whilst the word in test is: MARY\n",
      "****Your Guess is: WOMAN whilst the word in test is: IX-1P\n",
      "\n",
      "**** WER = 0.5898876404494382\n",
      "Total correct: 73 out of 178\n",
      "Video  Recognized                                                    Correct\n",
      "=====================================================================================================\n",
      "    2: JOHN *BUY HOMEWORK                                            JOHN WRITE HOMEWORK\n",
      "    7: JOHN *STUDENT *GIVE *VISIT                                    JOHN CAN GO CAN\n",
      "   12: JOHN CAN GO CAN                                               JOHN CAN GO CAN\n",
      "   21: JOHN *IX *GO *MARY *NEW *VISIT *FUTURE *MARY                  JOHN FISH WONT EAT BUT CAN EAT CHICKEN\n",
      "   25: JOHN *IX *JOHN IX IX                                          JOHN LIKE IX IX IX\n",
      "   28: JOHN *IX IX IX *WOMAN                                         JOHN LIKE IX IX IX\n",
      "   30: JOHN *JOHN *MARY *JOHN IX                                     JOHN LIKE IX IX IX\n",
      "   36: *JOHN *JOHN *MARY *GIVE *JOHN *JOHN                           MARY VEGETABLE KNOW IX LIKE CORN1\n",
      "   40: JOHN IX *JOHN *JOHN *JOHN                                     JOHN IX THINK MARY LOVE\n",
      "   43: JOHN *JOHN BUY HOUSE                                          JOHN MUST BUY HOUSE\n",
      "   50: *JOHN JOHN BUY CAR *MARY                                      FUTURE JOHN BUY CAR SHOULD\n",
      "   54: JOHN *IX *IX BUY HOUSE                                        JOHN SHOULD NOT BUY HOUSE\n",
      "   57: JOHN *JOHN *IX MARY                                           JOHN DECIDE VISIT MARY\n",
      "   67: JOHN *JOHN *JOHN BUY HOUSE                                    JOHN FUTURE NOT BUY HOUSE\n",
      "   71: JOHN *JOHN VISIT *CAR                                         JOHN WILL VISIT MARY\n",
      "   74: JOHN *MARY *JOHN MARY                                         JOHN NOT VISIT MARY\n",
      "   77: *JOHN BLAME *IX                                               ANN BLAME MARY\n",
      "   84: *JOHN *CAR *JOHN BOOK                                         IX-1P FIND SOMETHING-ONE BOOK\n",
      "   89: *VISIT *JOHN *IX *JOHN IX *ARRIVE *CAN                        JOHN IX GIVE MAN IX NEW COAT\n",
      "   90: JOHN *JOHN *JOHN *IX *IX *JOHN                                JOHN GIVE IX SOMETHING-ONE WOMAN BOOK\n",
      "   92: JOHN *IX IX *JOHN WOMAN *VISIT                                JOHN GIVE IX SOMETHING-ONE WOMAN BOOK\n",
      "  100: *JOHN NEW CAR *MANY                                           POSS NEW CAR BREAK-DOWN\n",
      "  105: JOHN *JOHN                                                    JOHN LEG\n",
      "  107: JOHN *IX *PEOPLE HAVE *JOHN                                   JOHN POSS FRIEND HAVE CANDY\n",
      "  108: *JOHN ARRIVE                                                  WOMAN ARRIVE\n",
      "  113: *JOHN *PEOPLE *JOHN *JOHN BUY                                 IX CAR BLUE SUE BUY\n",
      "  119: *JOHN BUY IX CAR *MARY                                        SUE BUY IX CAR BLUE\n",
      "  122: JOHN *PEOPLE BOOK                                             JOHN READ BOOK\n",
      "  139: JOHN BUY *CAR *JOHN *ARRIVE                                   JOHN BUY WHAT YESTERDAY BOOK\n",
      "  142: JOHN BUY YESTERDAY WHAT BOOK                                  JOHN BUY YESTERDAY WHAT BOOK\n",
      "  158: LOVE JOHN *JOHN                                               LOVE JOHN WHO\n",
      "  167: JOHN *JOHN *IX *VISIT *VISIT                                  JOHN IX SAY LOVE MARY\n",
      "  171: *MARY *JOHN BLAME                                             JOHN MARY BLAME\n",
      "  174: *VISIT *JOHN *GIVE *JOHN *BOX                                 PEOPLE GROUP GIVE1 JANA TOY\n",
      "  181: JOHN *NEW                                                     JOHN ARRIVE\n",
      "  184: *IX *JOHN GIVE *BREAK-DOWN *JOHN                              ALL BOY GIVE TEACHER APPLE\n",
      "  189: JOHN *JOHN *JOHN *IX                                          JOHN GIVE GIRL BOX\n",
      "  193: JOHN *IX *IX *BLAME                                           JOHN GIVE GIRL BOX\n",
      "  199: *JOHN *FUTURE *MARY                                           LIKE CHOCOLATE WHO\n",
      "  201: JOHN *IX *IX *WOMAN BUY HOUSE                                 JOHN TELL MARY IX-1P BUY HOUSE\n"
     ]
    }
   ],
   "source": [
    "# TODO Choose a feature set and model selector\n",
    "# TODO Recognize the test set and display the result with the show_errors method\n",
    "feature_custom=  [ 'norm-delta-rx','norm-delta-ry','norm-delta-lx','norm-delta-ly']\n",
    "features = feature_custom # change as needed\n",
    "model_selector = SelectorBIC # change as needed\n",
    "# TODO Recognize the test set and display the result with the show_errors method\n",
    "models = train_all_words(features, model_selector)\n",
    "test_set = asl.build_test(features)\n",
    "probabilities, guesses = recognize(models, test_set)\n",
    "show_errors(guesses, test_set)"
   ]
  },
  {
   "cell_type": "code",
   "execution_count": 57,
   "metadata": {
    "collapsed": false,
    "deletable": true,
    "editable": true
   },
   "outputs": [
    {
     "name": "stdout",
     "output_type": "stream",
     "text": [
      "****Your Guess is: ARRIVE whilst the word in test is: CAN\n",
      "****Your Guess is: HOUSE whilst the word in test is: CAN\n",
      "****Your Guess is: HOMEWORK whilst the word in test is: FISH\n",
      "****Your Guess is: FUTURE whilst the word in test is: EAT\n",
      "****Your Guess is: CAR whilst the word in test is: CAN\n",
      "****Your Guess is: FUTURE whilst the word in test is: EAT\n",
      "****Your Guess is: EAT whilst the word in test is: CHICKEN\n",
      "****Your Guess is: ANN whilst the word in test is: JOHN\n",
      "****Your Guess is: MARY whilst the word in test is: IX\n",
      "****Your Guess is: ANN whilst the word in test is: JOHN\n",
      "****Your Guess is: MARY whilst the word in test is: LIKE\n",
      "****Your Guess is: LIKE whilst the word in test is: IX\n",
      "****Your Guess is: MARY whilst the word in test is: IX\n",
      "****Your Guess is: LIKE whilst the word in test is: IX\n",
      "****Your Guess is: JOHN whilst the word in test is: VEGETABLE\n",
      "****Your Guess is: GIRL whilst the word in test is: KNOW\n",
      "****Your Guess is: GIVE whilst the word in test is: IX\n",
      "****Your Guess is: MARY whilst the word in test is: LIKE\n",
      "****Your Guess is: MARY whilst the word in test is: CORN1\n",
      "****Your Guess is: GIVE whilst the word in test is: IX\n",
      "****Your Guess is: CORN whilst the word in test is: THINK\n",
      "****Your Guess is: LIKE whilst the word in test is: LOVE\n",
      "****Your Guess is: POSS whilst the word in test is: MUST\n",
      "****Your Guess is: POSS whilst the word in test is: FUTURE\n",
      "****Your Guess is: SEE whilst the word in test is: JOHN\n",
      "****Your Guess is: WRITE whilst the word in test is: BUY\n",
      "****Your Guess is: FUTURE whilst the word in test is: SHOULD\n",
      "****Your Guess is: FUTURE whilst the word in test is: NOT\n",
      "****Your Guess is: MARY whilst the word in test is: JOHN\n",
      "****Your Guess is: JOHN whilst the word in test is: DECIDE\n",
      "****Your Guess is: IX whilst the word in test is: VISIT\n",
      "****Your Guess is: GIVE whilst the word in test is: MARY\n",
      "****Your Guess is: JOHN whilst the word in test is: NOT\n",
      "****Your Guess is: FUTURE whilst the word in test is: WILL\n",
      "****Your Guess is: IX whilst the word in test is: JOHN\n",
      "****Your Guess is: MARY whilst the word in test is: NOT\n",
      "****Your Guess is: MARY whilst the word in test is: VISIT\n",
      "****Your Guess is: IX whilst the word in test is: MARY\n",
      "****Your Guess is: JOHN whilst the word in test is: ANN\n",
      "****Your Guess is: JOHN whilst the word in test is: IX-1P\n",
      "****Your Guess is: ARRIVE whilst the word in test is: FIND\n",
      "****Your Guess is: ARRIVE whilst the word in test is: SOMETHING-ONE\n",
      "****Your Guess is: VISIT whilst the word in test is: JOHN\n",
      "****Your Guess is: SOMETHING-ONE whilst the word in test is: IX\n",
      "****Your Guess is: MAN whilst the word in test is: GIVE\n",
      "****Your Guess is: WOMAN whilst the word in test is: MAN\n",
      "****Your Guess is: IX whilst the word in test is: GIVE\n",
      "****Your Guess is: IX whilst the word in test is: SOMETHING-ONE\n",
      "****Your Guess is: IX whilst the word in test is: GIVE\n",
      "****Your Guess is: WOMAN whilst the word in test is: SOMETHING-ONE\n",
      "****Your Guess is: FRANK whilst the word in test is: LEG\n",
      "****Your Guess is: IX whilst the word in test is: POSS\n",
      "****Your Guess is: JOHN whilst the word in test is: CANDY\n",
      "****Your Guess is: JOHN whilst the word in test is: WOMAN\n",
      "****Your Guess is: CHOCOLATE whilst the word in test is: ARRIVE\n",
      "****Your Guess is: JOHN whilst the word in test is: SUE\n",
      "****Your Guess is: PREFER whilst the word in test is: SUE\n",
      "****Your Guess is: JOHN whilst the word in test is: BLUE\n",
      "****Your Guess is: WHO whilst the word in test is: JOHN\n",
      "****Your Guess is: MARY whilst the word in test is: SAY\n",
      "****Your Guess is: MARY whilst the word in test is: JOHN\n",
      "****Your Guess is: JOHN whilst the word in test is: MARY\n",
      "****Your Guess is: NEW whilst the word in test is: PEOPLE\n",
      "****Your Guess is: GIVE whilst the word in test is: GIVE1\n",
      "****Your Guess is: APPLE whilst the word in test is: JANA\n",
      "****Your Guess is: BLAME whilst the word in test is: TOY\n",
      "****Your Guess is: SUE whilst the word in test is: JOHN\n",
      "****Your Guess is: IX whilst the word in test is: GIVE\n",
      "****Your Guess is: APPLE whilst the word in test is: GIRL\n",
      "****Your Guess is: CAN whilst the word in test is: BOX\n",
      "****Your Guess is: JOHN whilst the word in test is: LIKE\n",
      "****Your Guess is: MARY whilst the word in test is: TELL\n",
      "****Your Guess is: LOVE whilst the word in test is: MARY\n",
      "****Your Guess is: LIKE whilst the word in test is: IX-1P\n",
      "\n",
      "**** WER = 0.4157303370786517\n",
      "Total correct: 104 out of 178\n",
      "Video  Recognized                                                    Correct\n",
      "=====================================================================================================\n",
      "    2: JOHN WRITE HOMEWORK                                           JOHN WRITE HOMEWORK\n",
      "    7: JOHN CAN GO *ARRIVE                                           JOHN CAN GO CAN\n",
      "   12: JOHN CAN GO *HOUSE                                            JOHN CAN GO CAN\n",
      "   21: JOHN *HOMEWORK WONT *FUTURE BUT *CAR *FUTURE *EAT             JOHN FISH WONT EAT BUT CAN EAT CHICKEN\n",
      "   25: *ANN LIKE *MARY IX IX                                         JOHN LIKE IX IX IX\n",
      "   28: *ANN *MARY IX *LIKE IX                                        JOHN LIKE IX IX IX\n",
      "   30: JOHN LIKE *MARY *LIKE IX                                      JOHN LIKE IX IX IX\n",
      "   36: MARY *JOHN *GIRL *GIVE *MARY *MARY                            MARY VEGETABLE KNOW IX LIKE CORN1\n",
      "   40: JOHN *GIVE *CORN MARY *LIKE                                   JOHN IX THINK MARY LOVE\n",
      "   43: JOHN *POSS BUY HOUSE                                          JOHN MUST BUY HOUSE\n",
      "   50: *POSS *SEE *WRITE CAR SHOULD                                  FUTURE JOHN BUY CAR SHOULD\n",
      "   54: JOHN *FUTURE *FUTURE BUY HOUSE                                JOHN SHOULD NOT BUY HOUSE\n",
      "   57: *MARY *JOHN *IX *GIVE                                         JOHN DECIDE VISIT MARY\n",
      "   67: JOHN FUTURE *JOHN BUY HOUSE                                   JOHN FUTURE NOT BUY HOUSE\n",
      "   71: JOHN *FUTURE VISIT MARY                                       JOHN WILL VISIT MARY\n",
      "   74: *IX *MARY *MARY *IX                                           JOHN NOT VISIT MARY\n",
      "   77: *JOHN BLAME MARY                                              ANN BLAME MARY\n",
      "   84: *JOHN *ARRIVE *ARRIVE BOOK                                    IX-1P FIND SOMETHING-ONE BOOK\n",
      "   89: *VISIT *SOMETHING-ONE *MAN *WOMAN IX NEW COAT                 JOHN IX GIVE MAN IX NEW COAT\n",
      "   90: JOHN *IX IX *IX WOMAN BOOK                                    JOHN GIVE IX SOMETHING-ONE WOMAN BOOK\n",
      "   92: JOHN *IX IX *WOMAN WOMAN BOOK                                 JOHN GIVE IX SOMETHING-ONE WOMAN BOOK\n",
      "  100: POSS NEW CAR BREAK-DOWN                                       POSS NEW CAR BREAK-DOWN\n",
      "  105: JOHN *FRANK                                                   JOHN LEG\n",
      "  107: JOHN *IX FRIEND HAVE *JOHN                                    JOHN POSS FRIEND HAVE CANDY\n",
      "  108: *JOHN *CHOCOLATE                                              WOMAN ARRIVE\n",
      "  113: IX CAR BLUE *JOHN BUY                                         IX CAR BLUE SUE BUY\n",
      "  119: *PREFER BUY IX CAR *JOHN                                      SUE BUY IX CAR BLUE\n",
      "  122: JOHN READ BOOK                                                JOHN READ BOOK\n",
      "  139: JOHN BUY WHAT YESTERDAY BOOK                                  JOHN BUY WHAT YESTERDAY BOOK\n",
      "  142: JOHN BUY YESTERDAY WHAT BOOK                                  JOHN BUY YESTERDAY WHAT BOOK\n",
      "  158: LOVE *WHO WHO                                                 LOVE JOHN WHO\n",
      "  167: JOHN IX *MARY LOVE MARY                                       JOHN IX SAY LOVE MARY\n",
      "  171: *MARY *JOHN BLAME                                             JOHN MARY BLAME\n",
      "  174: *NEW GROUP *GIVE *APPLE *BLAME                                PEOPLE GROUP GIVE1 JANA TOY\n",
      "  181: *SUE ARRIVE                                                   JOHN ARRIVE\n",
      "  184: ALL BOY GIVE TEACHER APPLE                                    ALL BOY GIVE TEACHER APPLE\n",
      "  189: JOHN *IX *APPLE *CAN                                          JOHN GIVE GIRL BOX\n",
      "  193: JOHN GIVE GIRL BOX                                            JOHN GIVE GIRL BOX\n",
      "  199: *JOHN CHOCOLATE WHO                                           LIKE CHOCOLATE WHO\n",
      "  201: JOHN *MARY *LOVE *LIKE BUY HOUSE                              JOHN TELL MARY IX-1P BUY HOUSE\n"
     ]
    }
   ],
   "source": [
    "# TODO Choose a feature set and model selector\n",
    "# TODO Recognize the test set and display the result with the show_errors method\n",
    "feature_custom=  [ 'resc-rx','resc-ry','resc-lx','resc-ly','resc-polar-rr','resc-polar-rtheta','resc-polar-lr','resc-polar-ltheta','norm-delta-rx','norm-delta-ry','norm-delta-lx','norm-delta-ly']\n",
    "features = feature_custom # change as needed\n",
    "model_selector = SelectorBIC # change as needed\n",
    "# TODO Recognize the test set and display the result with the show_errors method\n",
    "models = train_all_words(features, model_selector)\n",
    "test_set = asl.build_test(features)\n",
    "probabilities, guesses = recognize(models, test_set)\n",
    "show_errors(guesses, test_set)"
   ]
  },
  {
   "cell_type": "markdown",
   "metadata": {
    "deletable": true,
    "editable": true
   },
   "source": [
    "**Question 3:**  Summarize the error results from three combinations of features and model selectors.  What was the \"best\" combination and why?  What additional information might we use to improve our WER?  For more insight on improving WER, take a look at the introduction to Part 4.\n",
    " \n",
    "\n",
    "**Answer 3:**\n",
    "Feature Selected 1 (Rescaling Raw Features)\n",
    "**BIC** **DIC** **CV**\n",
    "0.556   0.5337   0.5561\n",
    "Feature Selected 2 (Rescaling Polar Features)\n",
    "**BIC** **DIC** **CV**\n",
    "0.584   0.50516   0.5561\n",
    "Feature Selected 3 (Normalizing deltas)\n",
    "**BIC** **DIC** **CV**\n",
    "0.5898    0.606   0.5842\n",
    "Feature Selected 4 (Best estimated error)\n",
    "**BIC** **DIC** **CV**\n",
    "0.415   0.4887  0.4831\n",
    "\n",
    "As shortly mentioned in Question 1, several features sets were tested in terms of their usefulness for decreasing the estimated error on unseen data. Then the most promising ones were combined together, yielding an expected error in the range of 43%-49% across the three methods. \n",
    "The first set of features were derived by rescaling raw features, the second one was calculated by rescaling polar features, the third one was computed by normalizing the delta between frames of raw features, and the last one was a combination of all of them. \n",
    "The first two features sets yielded a very similar results. However, they do not appear to be redundant as, when used together, they do improve the estimated error. \n",
    "Rescaling features seemed to improve DIC capacity to select the best model.  \n",
    "A simple solution to improve estimated performance on unseen data would imply collecting more example data, mainly for poorly represented sign.\n",
    "Further improvements could derive from taking into account the context in which signs appear. Unfortunately, this was not possible as yet due to time constraints. "
   ]
  },
  {
   "cell_type": "markdown",
   "metadata": {
    "deletable": true,
    "editable": true
   },
   "source": [
    "<a id='part3_test'></a>\n",
    "### Recognizer Unit Tests\n",
    "Run the following unit tests as a sanity check on the defined recognizer.  The test simply looks for some valid values but is not exhaustive. However, the project should not be submitted if these tests don't pass."
   ]
  },
  {
   "cell_type": "code",
   "execution_count": 39,
   "metadata": {
    "collapsed": false,
    "deletable": true,
    "editable": true
   },
   "outputs": [
    {
     "name": "stderr",
     "output_type": "stream",
     "text": [
      "..\n",
      "----------------------------------------------------------------------\n",
      "Ran 2 tests in 25.013s\n",
      "\n",
      "OK\n"
     ]
    },
    {
     "data": {
      "text/plain": [
       "<unittest.runner.TextTestResult run=2 errors=0 failures=0>"
      ]
     },
     "execution_count": 39,
     "metadata": {},
     "output_type": "execute_result"
    }
   ],
   "source": [
    "from asl_test_recognizer import TestRecognize\n",
    "suite = unittest.TestLoader().loadTestsFromModule(TestRecognize())\n",
    "unittest.TextTestRunner().run(suite)"
   ]
  },
  {
   "cell_type": "markdown",
   "metadata": {
    "deletable": true,
    "editable": true
   },
   "source": [
    "<a id='part4_info'></a>\n",
    "## PART 4: (OPTIONAL)  Improve the WER with Language Models\n",
    "We've squeezed just about as much as we can out of the model and still only get about 50% of the words right! Surely we can do better than that.  Probability to the rescue again in the form of [statistical language models (SLM)](https://en.wikipedia.org/wiki/Language_model).  The basic idea is that each word has some probability of occurrence within the set, and some probability that it is adjacent to specific other words. We can use that additional information to make better choices.\n",
    "\n",
    "##### Additional reading and resources\n",
    "- [Introduction to N-grams (Stanford Jurafsky slides)](https://web.stanford.edu/class/cs124/lec/languagemodeling.pdf)\n",
    "- [Speech Recognition Techniques for a Sign Language Recognition System, Philippe Dreuw et al](https://www-i6.informatik.rwth-aachen.de/publications/download/154/Dreuw--2007.pdf) see the improved results of applying LM on *this* data!\n",
    "- [SLM data for *this* ASL dataset](ftp://wasserstoff.informatik.rwth-aachen.de/pub/rwth-boston-104/lm/)\n",
    "\n",
    "##### Optional challenge\n",
    "The recognizer you implemented in Part 3 is equivalent to a \"0-gram\" SLM.  Improve the WER with the SLM data provided with the data set in the link above using \"1-gram\", \"2-gram\", and/or \"3-gram\" statistics. The `probabilities` data you've already calculated will be useful and can be turned into a pandas DataFrame if desired (see next cell).  \n",
    "Good luck!  Share your results with the class!"
   ]
  },
  {
   "cell_type": "code",
   "execution_count": 40,
   "metadata": {
    "collapsed": false,
    "deletable": true,
    "editable": true
   },
   "outputs": [
    {
     "data": {
      "text/html": [
       "<div>\n",
       "<table border=\"1\" class=\"dataframe\">\n",
       "  <thead>\n",
       "    <tr style=\"text-align: right;\">\n",
       "      <th></th>\n",
       "      <th>ALL</th>\n",
       "      <th>ANN</th>\n",
       "      <th>APPLE</th>\n",
       "      <th>ARRIVE</th>\n",
       "      <th>BILL</th>\n",
       "      <th>BLAME</th>\n",
       "      <th>BLUE</th>\n",
       "      <th>BOOK</th>\n",
       "      <th>BORROW</th>\n",
       "      <th>BOX</th>\n",
       "      <th>...</th>\n",
       "      <th>VIDEOTAPE</th>\n",
       "      <th>VISIT</th>\n",
       "      <th>WANT</th>\n",
       "      <th>WHAT</th>\n",
       "      <th>WHO</th>\n",
       "      <th>WILL</th>\n",
       "      <th>WOMAN</th>\n",
       "      <th>WONT</th>\n",
       "      <th>WRITE</th>\n",
       "      <th>YESTERDAY</th>\n",
       "    </tr>\n",
       "  </thead>\n",
       "  <tbody>\n",
       "    <tr>\n",
       "      <th>0</th>\n",
       "      <td>-831.342391</td>\n",
       "      <td>-1060.223105</td>\n",
       "      <td>-374.237005</td>\n",
       "      <td>-265.877381</td>\n",
       "      <td>-1240.431414</td>\n",
       "      <td>-199.891880</td>\n",
       "      <td>-1471.482293</td>\n",
       "      <td>-749.705904</td>\n",
       "      <td>-951.970540</td>\n",
       "      <td>-839.788513</td>\n",
       "      <td>...</td>\n",
       "      <td>-810.368894</td>\n",
       "      <td>-97.397800</td>\n",
       "      <td>-718.526013</td>\n",
       "      <td>-241.643985</td>\n",
       "      <td>-261.824153</td>\n",
       "      <td>-1198.029124</td>\n",
       "      <td>-722.437234</td>\n",
       "      <td>-298.306755</td>\n",
       "      <td>-512.779968</td>\n",
       "      <td>-190.081350</td>\n",
       "    </tr>\n",
       "    <tr>\n",
       "      <th>1</th>\n",
       "      <td>-3307.332859</td>\n",
       "      <td>-6567.849108</td>\n",
       "      <td>-3800.779642</td>\n",
       "      <td>29.604099</td>\n",
       "      <td>-3320.542313</td>\n",
       "      <td>-73.721220</td>\n",
       "      <td>-1999.519232</td>\n",
       "      <td>27.723065</td>\n",
       "      <td>-102.487248</td>\n",
       "      <td>-549.927329</td>\n",
       "      <td>...</td>\n",
       "      <td>-4.390725</td>\n",
       "      <td>-54.418520</td>\n",
       "      <td>-386.292280</td>\n",
       "      <td>-233.133685</td>\n",
       "      <td>-14.788309</td>\n",
       "      <td>-2321.800804</td>\n",
       "      <td>-604.508479</td>\n",
       "      <td>-282.155319</td>\n",
       "      <td>142.820434</td>\n",
       "      <td>-205.657598</td>\n",
       "    </tr>\n",
       "    <tr>\n",
       "      <th>2</th>\n",
       "      <td>-4084.656520</td>\n",
       "      <td>-13921.483448</td>\n",
       "      <td>-4385.536166</td>\n",
       "      <td>-44.176154</td>\n",
       "      <td>-5816.137437</td>\n",
       "      <td>-147.780333</td>\n",
       "      <td>-2444.514328</td>\n",
       "      <td>-419.764433</td>\n",
       "      <td>-485.065278</td>\n",
       "      <td>-668.134115</td>\n",
       "      <td>...</td>\n",
       "      <td>-165.439546</td>\n",
       "      <td>-80.485425</td>\n",
       "      <td>-754.958125</td>\n",
       "      <td>-502.754737</td>\n",
       "      <td>-450.253902</td>\n",
       "      <td>-2889.594092</td>\n",
       "      <td>-1050.228362</td>\n",
       "      <td>-462.284259</td>\n",
       "      <td>-575.877983</td>\n",
       "      <td>-391.887435</td>\n",
       "    </tr>\n",
       "    <tr>\n",
       "      <th>3</th>\n",
       "      <td>-114.707669</td>\n",
       "      <td>-2963.181230</td>\n",
       "      <td>-443.430384</td>\n",
       "      <td>-334.576851</td>\n",
       "      <td>-632.707838</td>\n",
       "      <td>-147.990962</td>\n",
       "      <td>-486.628119</td>\n",
       "      <td>-693.691185</td>\n",
       "      <td>-1051.540220</td>\n",
       "      <td>-593.528962</td>\n",
       "      <td>...</td>\n",
       "      <td>-755.678849</td>\n",
       "      <td>-29.188319</td>\n",
       "      <td>-703.321644</td>\n",
       "      <td>-304.778565</td>\n",
       "      <td>75.235679</td>\n",
       "      <td>-305.855897</td>\n",
       "      <td>69.191794</td>\n",
       "      <td>-280.261138</td>\n",
       "      <td>-777.951888</td>\n",
       "      <td>-266.745473</td>\n",
       "    </tr>\n",
       "    <tr>\n",
       "      <th>4</th>\n",
       "      <td>-821.934888</td>\n",
       "      <td>-3167.262091</td>\n",
       "      <td>-805.618598</td>\n",
       "      <td>-6.300588</td>\n",
       "      <td>-1813.024588</td>\n",
       "      <td>-9.054640</td>\n",
       "      <td>-1118.403691</td>\n",
       "      <td>-60.332995</td>\n",
       "      <td>-81.339905</td>\n",
       "      <td>-71.898162</td>\n",
       "      <td>...</td>\n",
       "      <td>-178.333570</td>\n",
       "      <td>-20.564147</td>\n",
       "      <td>-43.140494</td>\n",
       "      <td>-39.430083</td>\n",
       "      <td>-100.589171</td>\n",
       "      <td>-1226.322895</td>\n",
       "      <td>-98.850481</td>\n",
       "      <td>-160.816006</td>\n",
       "      <td>-128.751985</td>\n",
       "      <td>-84.231391</td>\n",
       "    </tr>\n",
       "  </tbody>\n",
       "</table>\n",
       "<p>5 rows × 111 columns</p>\n",
       "</div>"
      ],
      "text/plain": [
       "           ALL           ANN        APPLE      ARRIVE         BILL  \\\n",
       "0  -831.342391  -1060.223105  -374.237005 -265.877381 -1240.431414   \n",
       "1 -3307.332859  -6567.849108 -3800.779642   29.604099 -3320.542313   \n",
       "2 -4084.656520 -13921.483448 -4385.536166  -44.176154 -5816.137437   \n",
       "3  -114.707669  -2963.181230  -443.430384 -334.576851  -632.707838   \n",
       "4  -821.934888  -3167.262091  -805.618598   -6.300588 -1813.024588   \n",
       "\n",
       "        BLAME         BLUE        BOOK       BORROW         BOX     ...      \\\n",
       "0 -199.891880 -1471.482293 -749.705904  -951.970540 -839.788513     ...       \n",
       "1  -73.721220 -1999.519232   27.723065  -102.487248 -549.927329     ...       \n",
       "2 -147.780333 -2444.514328 -419.764433  -485.065278 -668.134115     ...       \n",
       "3 -147.990962  -486.628119 -693.691185 -1051.540220 -593.528962     ...       \n",
       "4   -9.054640 -1118.403691  -60.332995   -81.339905  -71.898162     ...       \n",
       "\n",
       "    VIDEOTAPE      VISIT        WANT        WHAT         WHO         WILL  \\\n",
       "0 -810.368894 -97.397800 -718.526013 -241.643985 -261.824153 -1198.029124   \n",
       "1   -4.390725 -54.418520 -386.292280 -233.133685  -14.788309 -2321.800804   \n",
       "2 -165.439546 -80.485425 -754.958125 -502.754737 -450.253902 -2889.594092   \n",
       "3 -755.678849 -29.188319 -703.321644 -304.778565   75.235679  -305.855897   \n",
       "4 -178.333570 -20.564147  -43.140494  -39.430083 -100.589171 -1226.322895   \n",
       "\n",
       "         WOMAN        WONT       WRITE   YESTERDAY  \n",
       "0  -722.437234 -298.306755 -512.779968 -190.081350  \n",
       "1  -604.508479 -282.155319  142.820434 -205.657598  \n",
       "2 -1050.228362 -462.284259 -575.877983 -391.887435  \n",
       "3    69.191794 -280.261138 -777.951888 -266.745473  \n",
       "4   -98.850481 -160.816006 -128.751985  -84.231391  \n",
       "\n",
       "[5 rows x 111 columns]"
      ]
     },
     "execution_count": 40,
     "metadata": {},
     "output_type": "execute_result"
    }
   ],
   "source": [
    "# create a DataFrame of log likelihoods for the test word items\n",
    "df_probs = pd.DataFrame(data=probabilities)\n",
    "df_probs.head()"
   ]
  },
  {
   "cell_type": "code",
   "execution_count": null,
   "metadata": {
    "collapsed": true,
    "deletable": true,
    "editable": true
   },
   "outputs": [],
   "source": []
  }
 ],
 "metadata": {
  "anaconda-cloud": {},
  "kernelspec": {
   "display_name": "Python 3",
   "language": "python",
   "name": "python3"
  },
  "language_info": {
   "codemirror_mode": {
    "name": "ipython",
    "version": 3
   },
   "file_extension": ".py",
   "mimetype": "text/x-python",
   "name": "python",
   "nbconvert_exporter": "python",
   "pygments_lexer": "ipython3",
   "version": "3.6.0"
  },
  "nbpresent": {
   "slides": {
    "0a2d4faf-9fb8-4cee-853b-ed68b90f3f8a": {
     "id": "0a2d4faf-9fb8-4cee-853b-ed68b90f3f8a",
     "prev": null,
     "regions": {
      "3fb9ce83-fbb2-4995-832a-f8f400734ad3": {
       "attrs": {
        "height": 0.8,
        "width": 0.8,
        "x": 0.1,
        "y": 0.1
       },
       "content": {
        "cell": "1dbb9346-179b-4835-b430-6369d88f1a1b",
        "part": "whole"
       },
       "id": "3fb9ce83-fbb2-4995-832a-f8f400734ad3"
      }
     }
    },
    "1519a4fa-1588-4644-98de-9c43bf0aceb5": {
     "id": "1519a4fa-1588-4644-98de-9c43bf0aceb5",
     "prev": "8a712017-49b7-449f-8264-43a032ace902",
     "regions": {
      "29546121-ed11-44b7-8144-0c44e874098f": {
       "attrs": {
        "height": 0.8,
        "width": 0.8,
        "x": 0.1,
        "y": 0.1
       },
       "content": {
        "cell": "365590a4-6963-4812-a1cf-688f7b6bb9ff",
        "part": "whole"
       },
       "id": "29546121-ed11-44b7-8144-0c44e874098f"
      }
     }
    },
    "176eaccb-15dd-455d-bf07-504213e7aa01": {
     "id": "176eaccb-15dd-455d-bf07-504213e7aa01",
     "prev": "de6b30f4-2463-4901-92ed-aabad78e5e0f",
     "regions": {
      "1542aa9e-dc55-4b90-adef-bf5181872b42": {
       "attrs": {
        "height": 0.8,
        "width": 0.8,
        "x": 0.1,
        "y": 0.1
       },
       "content": {
        "cell": "5c242050-c1f7-4b3b-8103-2ea9d71a40dc",
        "part": "whole"
       },
       "id": "1542aa9e-dc55-4b90-adef-bf5181872b42"
      }
     }
    },
    "19091b36-b0e7-49b1-b501-ec05937e0da9": {
     "id": "19091b36-b0e7-49b1-b501-ec05937e0da9",
     "prev": "1983c02e-fb99-4c05-a728-e0c0ad7c06d8",
     "regions": {
      "6529a31c-8d45-425c-b1d7-d0ac6fca6a32": {
       "attrs": {
        "height": 0.8,
        "width": 0.8,
        "x": 0.1,
        "y": 0.1
       },
       "content": {
        "cell": "e766909d-9421-4aaf-9fb1-bc90d27e49e3",
        "part": "whole"
       },
       "id": "6529a31c-8d45-425c-b1d7-d0ac6fca6a32"
      }
     }
    },
    "1983c02e-fb99-4c05-a728-e0c0ad7c06d8": {
     "id": "1983c02e-fb99-4c05-a728-e0c0ad7c06d8",
     "prev": "176eaccb-15dd-455d-bf07-504213e7aa01",
     "regions": {
      "1c4e605d-7f22-4f30-b3fb-74b2937e7a4a": {
       "attrs": {
        "height": 0.8,
        "width": 0.8,
        "x": 0.1,
        "y": 0.1
       },
       "content": {
        "cell": "4d217204-e5c0-4568-bd30-12c2e41b681d",
        "part": "whole"
       },
       "id": "1c4e605d-7f22-4f30-b3fb-74b2937e7a4a"
      }
     }
    },
    "212b111f-4527-459c-8297-1db5580ee5c9": {
     "id": "212b111f-4527-459c-8297-1db5580ee5c9",
     "prev": "76898529-e49e-4663-8d02-8261dfe1d94b",
     "regions": {
      "2e4bd280-3cd6-47d0-9c81-17737b24053b": {
       "attrs": {
        "height": 0.8,
        "width": 0.8,
        "x": 0.1,
        "y": 0.1
       },
       "content": {
        "cell": "0c316996-9933-4b3d-82ec-259518dc8bc9",
        "part": "whole"
       },
       "id": "2e4bd280-3cd6-47d0-9c81-17737b24053b"
      }
     }
    },
    "23a7337f-a0cf-4ed4-baa9-ec06bfdc0579": {
     "id": "23a7337f-a0cf-4ed4-baa9-ec06bfdc0579",
     "prev": "e76e9a02-54c1-4ec9-80fb-c611ed398122",
     "regions": {
      "b5721d20-d6f8-4ddb-a5aa-eb16f0cc8893": {
       "attrs": {
        "height": 0.8,
        "width": 0.8,
        "x": 0.1,
        "y": 0.1
       },
       "content": {
        "cell": "313015a2-b5a9-4136-a8ea-5d011e47d840",
        "part": "whole"
       },
       "id": "b5721d20-d6f8-4ddb-a5aa-eb16f0cc8893"
      }
     }
    },
    "732f1952-ee54-46fb-8067-099512824296": {
     "id": "732f1952-ee54-46fb-8067-099512824296",
     "prev": "0a2d4faf-9fb8-4cee-853b-ed68b90f3f8a",
     "regions": {
      "f31d4597-08ad-4c46-ad52-4bd2d775c624": {
       "attrs": {
        "height": 0.8,
        "width": 0.8,
        "x": 0.1,
        "y": 0.1
       },
       "content": {
        "cell": "aadfec52-27ca-4541-8920-fa9253d51827",
        "part": "whole"
       },
       "id": "f31d4597-08ad-4c46-ad52-4bd2d775c624"
      }
     }
    },
    "76898529-e49e-4663-8d02-8261dfe1d94b": {
     "id": "76898529-e49e-4663-8d02-8261dfe1d94b",
     "prev": "19091b36-b0e7-49b1-b501-ec05937e0da9",
     "regions": {
      "ec1746fc-aec9-4a7c-8225-9e9ac8d45889": {
       "attrs": {
        "height": 0.8,
        "width": 0.8,
        "x": 0.1,
        "y": 0.1
       },
       "content": {
        "cell": "b3e539be-84e2-49ce-a183-31cfc5c7ce7c",
        "part": "whole"
       },
       "id": "ec1746fc-aec9-4a7c-8225-9e9ac8d45889"
      }
     }
    },
    "8a712017-49b7-449f-8264-43a032ace902": {
     "id": "8a712017-49b7-449f-8264-43a032ace902",
     "prev": "bed9e696-630e-4747-be1c-bc3737ba992f",
     "regions": {
      "1faab517-cd16-4c63-bb01-a67246749d7a": {
       "attrs": {
        "height": 0.8,
        "width": 0.8,
        "x": 0.1,
        "y": 0.1
       },
       "content": {
        "cell": "3f14ddf0-4145-4687-9c33-712c3c32520f",
        "part": "whole"
       },
       "id": "1faab517-cd16-4c63-bb01-a67246749d7a"
      }
     }
    },
    "90af992d-eb6d-4496-b2d2-6aa9a95b6a61": {
     "id": "90af992d-eb6d-4496-b2d2-6aa9a95b6a61",
     "prev": "732f1952-ee54-46fb-8067-099512824296",
     "regions": {
      "4f448bec-5be9-4553-88ae-e35ed7612f25": {
       "attrs": {
        "height": 0.8,
        "width": 0.8,
        "x": 0.1,
        "y": 0.1
       },
       "content": {
        "cell": "c445fbfb-b8ab-4e9a-8d13-12231a1c588f",
        "part": "whole"
       },
       "id": "4f448bec-5be9-4553-88ae-e35ed7612f25"
      }
     }
    },
    "bed9e696-630e-4747-be1c-bc3737ba992f": {
     "id": "bed9e696-630e-4747-be1c-bc3737ba992f",
     "prev": "23a7337f-a0cf-4ed4-baa9-ec06bfdc0579",
     "regions": {
      "ac1513f0-404f-492b-8b42-0313e9a753b0": {
       "attrs": {
        "height": 0.8,
        "width": 0.8,
        "x": 0.1,
        "y": 0.1
       },
       "content": {
        "cell": "18dd2eee-8b6c-4a5e-9539-132d00a7c7e1",
        "part": "whole"
       },
       "id": "ac1513f0-404f-492b-8b42-0313e9a753b0"
      }
     }
    },
    "de6b30f4-2463-4901-92ed-aabad78e5e0f": {
     "id": "de6b30f4-2463-4901-92ed-aabad78e5e0f",
     "prev": "e36b4639-be8c-46f7-a8c9-bcfb134f9fd0",
     "regions": {
      "55ec36e0-362f-4fd3-8060-7cee056039aa": {
       "attrs": {
        "height": 0.8,
        "width": 0.8,
        "x": 0.1,
        "y": 0.1
       },
       "content": {
        "cell": "c3cf461e-4c9e-4dec-99d2-07bfa79cbe23",
        "part": "whole"
       },
       "id": "55ec36e0-362f-4fd3-8060-7cee056039aa"
      }
     }
    },
    "e36b4639-be8c-46f7-a8c9-bcfb134f9fd0": {
     "id": "e36b4639-be8c-46f7-a8c9-bcfb134f9fd0",
     "prev": "1519a4fa-1588-4644-98de-9c43bf0aceb5",
     "regions": {
      "4c1e9714-9ba0-45fd-8a2f-ef80a5c85c2e": {
       "attrs": {
        "height": 0.8,
        "width": 0.8,
        "x": 0.1,
        "y": 0.1
       },
       "content": {
        "cell": "6534d4dc-125f-47e6-a022-cf1e0d277174",
        "part": "whole"
       },
       "id": "4c1e9714-9ba0-45fd-8a2f-ef80a5c85c2e"
      }
     }
    },
    "e76e9a02-54c1-4ec9-80fb-c611ed398122": {
     "id": "e76e9a02-54c1-4ec9-80fb-c611ed398122",
     "prev": "90af992d-eb6d-4496-b2d2-6aa9a95b6a61",
     "regions": {
      "9491b84d-193b-40ff-9321-d21eb1ba88d4": {
       "attrs": {
        "height": 0.8,
        "width": 0.8,
        "x": 0.1,
        "y": 0.1
       },
       "content": {
        "cell": "b64ec10e-fa9d-4f3f-907f-6799611ed6b1",
        "part": "whole"
       },
       "id": "9491b84d-193b-40ff-9321-d21eb1ba88d4"
      }
     }
    }
   },
   "themes": {}
  }
 },
 "nbformat": 4,
 "nbformat_minor": 1
}
